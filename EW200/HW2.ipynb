{
 "cells": [
  {
   "cell_type": "markdown",
   "id": "60027e12",
   "metadata": {},
   "source": [
    "<img src=\"https://www.usna.edu/WRC/_files/WRClogos/WRCE-logo-combined-01-crop.png\" width=\"200px\">\n",
    "\n",
    "# Introducing Lists (Chapter 3)"
   ]
  },
  {
   "cell_type": "code",
   "execution_count": 2,
   "id": "a0571320",
   "metadata": {},
   "outputs": [
    {
     "name": "stdout",
     "output_type": "stream",
     "text": [
      "[1, 42, 18]\n",
      "['buffalo chicken sandwich', 'a second buffalo chicken sandwich']\n",
      "['EW200', 'EM211', 'HH215', 'NN220', 'PE201', 'SM316', 'SP211']\n"
     ]
    }
   ],
   "source": [
    "# a list is a collection of items in a particular order.\n",
    "# lists can contain any type of varible (letters, numbers, strings)\n",
    "favorite_numbers = [1, 42, 18]\n",
    "print(favorite_numbers)\n",
    "\n",
    "favorite_foods = ['buffalo chicken sandwich','a second buffalo chicken sandwich']\n",
    "print(favorite_foods)\n",
    "\n",
    "# lists can even contain other lists\n",
    "all_my_favorites = [favorite_numbers, favorite_foods]\n",
    "\n",
    "# different types of items can be in the same list\n",
    "random_stuff = [-5, 'Go Navy', 'A']\n",
    "\n",
    "# TODO: make a list of all of your classes (like ['EW200', ...]) and print it\n",
    "MyClasses = ['EW200', 'EM211', 'HH215', 'NN220', 'PE201', 'SM316', 'SP211']\n",
    "print(MyClasses)\n"
   ]
  },
  {
   "cell_type": "markdown",
   "id": "02c31d70",
   "metadata": {},
   "source": [
    "**Accessing Elements in a List**"
   ]
  },
  {
   "cell_type": "code",
   "execution_count": 4,
   "id": "4ea34436",
   "metadata": {},
   "outputs": [
    {
     "name": "stdout",
     "output_type": "stream",
     "text": [
      "Alice\n",
      "alice\n",
      "Hello my name is Bob\n",
      "Charlie\n",
      "Charlie\n"
     ]
    }
   ],
   "source": [
    "# access items by their position in the list or 'index'\n",
    "names = ['Alice', 'Bob', 'Charlie']\n",
    "print(names[0]) # NOTE the first item has index 0\n",
    "\n",
    "#Array elements act just like normal variables from Chapter 2\n",
    "print(names[0].lower())\n",
    "print(f\"Hello my name is {names[1]}\")\n",
    "\n",
    "#TODO print the last name in the list\n",
    "print(names[2])\n",
    "\n",
    "#TODO what does names[-1] print?\n",
    "print(names[-1])\n"
   ]
  },
  {
   "cell_type": "markdown",
   "id": "a85347f2",
   "metadata": {},
   "source": [
    "**Changing, Adding, and Removing Elements**"
   ]
  },
  {
   "cell_type": "code",
   "execution_count": 6,
   "id": "d7978ad5",
   "metadata": {},
   "outputs": [
    {
     "name": "stdout",
     "output_type": "stream",
     "text": [
      "['Alice', 'Bart', 'Charlie']\n",
      "['Alice', 'Bart', 'Charlie', 'Dan']\n",
      "['Alice', 'Beth', 'Bart', 'Charlie', 'Dan']\n",
      "['Alice', 'Beth', 'Bart', 'Charlie', 'Dan', 'Xavier', 'Yolanda', 'Ziggy']\n",
      "['Beth', 'Bart', 'Charlie', 'Dan']\n",
      "Dan\n",
      "Bart\n",
      "['Beth']\n",
      "['red', 'blue', 'green']\n"
     ]
    }
   ],
   "source": [
    "# Lists are dynamic. You can add, remove, and change elements\n",
    "names = ['Alice','Bob', 'Charlie']\n",
    "names[1] = 'Bart'\n",
    "print(names)\n",
    "\n",
    "#appending to the end of the list\n",
    "names.append('Dan')\n",
    "print(names)\n",
    "\n",
    "# inserting elements into a list\n",
    "names.insert(1, 'Beth')\n",
    "print(names)\n",
    "\n",
    "# combining lists\n",
    "other_names = ['Xavier','Yolanda','Ziggy']\n",
    "all_names = names+other_names\n",
    "print(all_names)\n",
    "\n",
    "# Removing Elements from a list\n",
    "del names[0]\n",
    "print(names)\n",
    "\n",
    "best_friend = names.pop() # pop last item into a variable\n",
    "print(best_friend)\n",
    "\n",
    "other_best_friend = names.pop(1) # pop a particular item into a variable\n",
    "print(other_best_friend)\n",
    "# removing item by value\n",
    "names.remove('Charlie')\n",
    "print(names)\n",
    "\n",
    "# CAREFUL: remove only removes the first occurence in the list\n",
    "colors = ['red','green','blue','green']\n",
    "colors.remove('green')\n",
    "print(colors) # still has green\n"
   ]
  },
  {
   "cell_type": "code",
   "execution_count": 9,
   "id": "a5fb55cc",
   "metadata": {},
   "outputs": [
    {
     "name": "stdout",
     "output_type": "stream",
     "text": [
      "['a', 'o', 'u', 'e']\n",
      "['a', 'o', 'u', 'e', 'i']\n",
      "e\n"
     ]
    }
   ],
   "source": [
    "# TODO create a list of the vowels in a random order but skip 'i'\n",
    "vowels = ['a','o','u','e']\n",
    "print(vowels)\n",
    "\n",
    "#      insert i at the end of the list\n",
    "vowels.append('i')\n",
    "print(vowels)\n",
    "\n",
    "#      pop your favorite vowel off into a new variable\n",
    "favorite = vowels.pop(3)\n",
    "print(favorite)"
   ]
  },
  {
   "cell_type": "markdown",
   "id": "ecf8e094",
   "metadata": {},
   "source": [
    "**Organizing a List**"
   ]
  },
  {
   "cell_type": "code",
   "execution_count": 10,
   "id": "36bdff65",
   "metadata": {},
   "outputs": [
    {
     "name": "stdout",
     "output_type": "stream",
     "text": [
      "['Alice', 'Bob', 'Charlie']\n",
      "['Charlie', 'Bob', 'Alice']\n",
      "Original:\n",
      "['Bob', 'Charlie', 'Alice']\n",
      "Sorted:\n",
      "['Alice', 'Bob', 'Charlie']\n",
      "['Bob', 'Charlie', 'Alice']\n",
      "['Alice', 'Charlie', 'Bob']\n"
     ]
    }
   ],
   "source": [
    "#there are several functions that can sort lists in particular order\n",
    "names = ['Bob','Charlie','Alice']\n",
    "names.sort() # in place (permanently sorts)\n",
    "print(names)\n",
    "names.sort(reverse=True)\n",
    "print(names)\n",
    "\n",
    "# create a new copy of the list (original is unchanged)\n",
    "names = ['Bob','Charlie','Alice']\n",
    "sorted_names = sorted(names)\n",
    "print(\"Original:\")\n",
    "print(names)\n",
    "print(\"Sorted:\")\n",
    "print(sorted_names)\n",
    "\n",
    "# change order (not a sort)\n",
    "print(names)\n",
    "names.reverse()\n",
    "print(names)"
   ]
  },
  {
   "cell_type": "code",
   "execution_count": 11,
   "id": "19daa46d",
   "metadata": {},
   "outputs": [
    {
     "name": "stdout",
     "output_type": "stream",
     "text": [
      "['i', 'o', 'e', 'a', 'u']\n",
      "['a', 'e', 'i', 'o', 'u']\n",
      "['u', 'o', 'i', 'e', 'a']\n"
     ]
    }
   ],
   "source": [
    "# TODO create a list of the vowels in a random order\n",
    "randVowels = ['i', 'o','e','a','u']\n",
    "print(randVowels)\n",
    "#      sort the list alphabetically\n",
    "randVowels.sort()\n",
    "print(randVowels)\n",
    "#      reverse the list\n",
    "randVowels.reverse()\n",
    "print(randVowels)"
   ]
  },
  {
   "cell_type": "markdown",
   "id": "29a8056e",
   "metadata": {},
   "source": [
    "------\n",
    "### Helpful Hints"
   ]
  },
  {
   "cell_type": "code",
   "execution_count": 12,
   "id": "4a7c123f",
   "metadata": {},
   "outputs": [
    {
     "name": "stdout",
     "output_type": "stream",
     "text": [
      "Charlie\n",
      "There are 3 names\n"
     ]
    },
    {
     "ename": "IndexError",
     "evalue": "list index out of range",
     "output_type": "error",
     "traceback": [
      "\u001b[1;31m---------------------------------------------------------------------------\u001b[0m",
      "\u001b[1;31mIndexError\u001b[0m                                Traceback (most recent call last)",
      "Cell \u001b[1;32mIn[12], line 10\u001b[0m\n\u001b[0;32m      8\u001b[0m \u001b[38;5;66;03m# index errors are common, especially off-by-one\u001b[39;00m\n\u001b[0;32m      9\u001b[0m names \u001b[38;5;241m=\u001b[39m [\u001b[38;5;124m'\u001b[39m\u001b[38;5;124mBob\u001b[39m\u001b[38;5;124m'\u001b[39m,\u001b[38;5;124m'\u001b[39m\u001b[38;5;124mCharlie\u001b[39m\u001b[38;5;124m'\u001b[39m,\u001b[38;5;124m'\u001b[39m\u001b[38;5;124mAlice\u001b[39m\u001b[38;5;124m'\u001b[39m]\n\u001b[1;32m---> 10\u001b[0m \u001b[38;5;28mprint\u001b[39m(names[\u001b[38;5;241m3\u001b[39m])\n",
      "\u001b[1;31mIndexError\u001b[0m: list index out of range"
     ]
    }
   ],
   "source": [
    "# negative indexes count from the back of the list\n",
    "# -1 is the last item, -2 is the second-to-last, etc\n",
    "print(names[-2])\n",
    "\n",
    "# len returns the length of a list (number of elements)\n",
    "print(f\"There are {len(names)} names\")\n",
    "\n",
    "# index errors are common, especially off-by-one\n",
    "names = ['Bob','Charlie','Alice']\n",
    "print(names[3]) # three names but last element is index 2\n"
   ]
  },
  {
   "cell_type": "markdown",
   "id": "0cd1cf29",
   "metadata": {},
   "source": [
    "-----\n",
    "\n",
    "## Homework Problems"
   ]
  },
  {
   "cell_type": "markdown",
   "id": "8618439c",
   "metadata": {},
   "source": [
    "**3-1. Names:** Store the names of a few of your friends in a list called ``names``. Print each person's name by acceessing each element in the list, one at a time"
   ]
  },
  {
   "cell_type": "code",
   "execution_count": null,
   "id": "9529dd7f",
   "metadata": {},
   "outputs": [],
   "source": [
    "names = ['Avery','Leah','Molly']\n",
    "print(names[0])\n",
    "print(names[1])\n",
    "print(names[3])"
   ]
  },
  {
   "cell_type": "markdown",
   "id": "f9cfb6a4",
   "metadata": {},
   "source": [
    "**3-2. Greetings:** Start with the list you used above, but instead of just printing each person's name, print a message to them. The text of each message should be the same, but each message should be personalized with the person's name"
   ]
  },
  {
   "cell_type": "code",
   "execution_count": 15,
   "id": "64073610",
   "metadata": {},
   "outputs": [
    {
     "name": "stdout",
     "output_type": "stream",
     "text": [
      "Hey, Avery how are you?\n",
      "Hey, Leah how are you?\n",
      "Hey, Molly how are you?\n"
     ]
    }
   ],
   "source": [
    "names = ['Avery','Leah','Molly']\n",
    "print(f\"Hey, {names[0]} how are you?\")\n",
    "print(f\"Hey, {names[1]} how are you?\")\n",
    "print(f\"Hey, {names[2]} how are you?\")"
   ]
  },
  {
   "cell_type": "markdown",
   "id": "7d303169",
   "metadata": {},
   "source": [
    "**3-3. Your Own List:** Think of your favorite mode of transportation, such as a motorcycle or a car, and make a list that stores several examples. Use your list to print a series of statements about these items, such as \"I would like to own a Honda motorcycle\" "
   ]
  },
  {
   "cell_type": "code",
   "execution_count": 16,
   "id": "fd5f1618",
   "metadata": {},
   "outputs": [
    {
     "name": "stdout",
     "output_type": "stream",
     "text": [
      "I like to ride in a trolly\n",
      "I get places quickly when I ride an ostrich\n",
      "I am tired of taking my pogo stick to work\n"
     ]
    }
   ],
   "source": [
    "transpo = ['trolly', 'ostrich', 'pogo stick']\n",
    "print(f'I like to ride in a {transpo[0]}')\n",
    "print(f'I get places quickly when I ride an {transpo[1]}')\n",
    "print(f'I am tired of taking my {transpo[2]} to work')\n"
   ]
  },
  {
   "cell_type": "markdown",
   "id": "6021449a",
   "metadata": {},
   "source": [
    "**3-4. Guest List:** If you could invite any famous Naval Officer, living or deceased, to a dinner, who would you invite? Make a list that includes at least three officers you'd like to invite to dinner. Then use your list to print a message to each person, inviting them to dinner. "
   ]
  },
  {
   "cell_type": "code",
   "execution_count": 17,
   "id": "17dfef4f",
   "metadata": {},
   "outputs": [
    {
     "name": "stdout",
     "output_type": "stream",
     "text": [
      "It would be an honor to eat dinner with Jimmy Carter\n",
      "It would be an honor to eat dinner with John McCain\n",
      "It would be an honor to eat dinner with Wendy B. Lawrence\n"
     ]
    }
   ],
   "source": [
    "officers = ['Jimmy Carter','John McCain', 'Wendy B. Lawrence']\n",
    "print(f'It would be an honor to eat dinner with {officers[0]}')\n",
    "print(f'It would be an honor to eat dinner with {officers[1]}')\n",
    "print(f'It would be an honor to eat dinner with {officers[2]}')\n"
   ]
  },
  {
   "cell_type": "markdown",
   "id": "d2cdd58d",
   "metadata": {},
   "source": [
    "**3-5. Changing Guest List:** One of your guests cannot make it, which is ok because you forgot to invite someone from the Marines. \n",
    "  * Start with the code from above. Add a ``print()`` call at the end of the program stating the name of the guest who can't make it.\n",
    "  * Modify the list, replacing the guest who can't make it with a famous Marine Officer.\n",
    "  * Print a second set of invitation messages, one for each person who is still in your list"
   ]
  },
  {
   "cell_type": "code",
   "execution_count": 20,
   "id": "00d8e907",
   "metadata": {},
   "outputs": [
    {
     "name": "stdout",
     "output_type": "stream",
     "text": [
      "It would be an honor to eat dinner with Jimmy Carter\n",
      "It would be an honor to eat dinner with John McCain\n",
      "It would be an honor to eat dinner with Wendy B. Lawrence\n",
      "John McCain cannot attend dinner\n",
      "['Jimmy Carter', 'David Berger', 'Wendy B. Lawrence']\n",
      "It would be an honor to eat dinner with Jimmy Carter\n",
      "It would be an honor to eat dinner with David Berger\n",
      "It would be an honor to eat dinner with Wendy B. Lawrence\n"
     ]
    }
   ],
   "source": [
    "officers = ['Jimmy Carter','John McCain', 'Wendy B. Lawrence']\n",
    "print(f'It would be an honor to eat dinner with {officers[0]}')\n",
    "print(f'It would be an honor to eat dinner with {officers[1]}')\n",
    "print(f'It would be an honor to eat dinner with {officers[2]}')\n",
    "print(f'{officers[1]} cannot attend dinner')\n",
    "officers[1]='David Berger'\n",
    "print(officers)\n",
    "print(f'It would be an honor to eat dinner with {officers[0]}')\n",
    "print(f'It would be an honor to eat dinner with {officers[1]}')\n",
    "print(f'It would be an honor to eat dinner with {officers[2]}')"
   ]
  },
  {
   "cell_type": "markdown",
   "id": "f8881cc3",
   "metadata": {},
   "source": [
    "**3-6. More Guests:** You just found a bigger dinner table, so now more space is available. Think of three famous Army Officers to invite to dinner. A joint operation!\n",
    "  * Start with the code from above. Add a ``print()`` call to the end of your program informing people that you found a bigger dinner table.\n",
    "  * Use ``insert()`` to add one new guest to the beginning of your list.\n",
    "  * Use ``insert()`` to add one new guest to the middle of your list.\n",
    "  * Use ``append()`` to add one new guest to the end of your list.\n",
    "  * Print a new set of invitation messages, one for each person in your list."
   ]
  },
  {
   "cell_type": "code",
   "execution_count": 26,
   "id": "9e4f1eeb",
   "metadata": {},
   "outputs": [
    {
     "ename": "SyntaxError",
     "evalue": "f-string: expecting '}' (1977156058.py, line 11)",
     "output_type": "error",
     "traceback": [
      "\u001b[1;36m  Cell \u001b[1;32mIn[26], line 11\u001b[1;36m\u001b[0m\n\u001b[1;33m    print(f'{'officers[0:3]'}, I found a bigger dinner table!')\u001b[0m\n\u001b[1;37m              ^\u001b[0m\n\u001b[1;31mSyntaxError\u001b[0m\u001b[1;31m:\u001b[0m f-string: expecting '}'\n"
     ]
    }
   ],
   "source": [
    "officers = ['Jimmy Carter','John McCain', 'Wendy B. Lawrence']\n",
    "print(f'It would be an honor to eat dinner with {officers[0]}')\n",
    "print(f'It would be an honor to eat dinner with {officers[1]}')\n",
    "print(f'It would be an honor to eat dinner with {officers[2]}')\n",
    "print(f'{officers[1]} cannot attend dinner')\n",
    "officers[1]='David Berger'\n",
    "print(officers)\n",
    "print(f'It would be an honor to eat dinner with {officers[0]}')\n",
    "print(f'It would be an honor to eat dinner with {officers[1]}')\n",
    "print(f'It would be an honor to eat dinner with {officers[2]}')\n",
    "### cant get the following lone out of brackets? Have to reference individually?\n",
    "print(f'{officers[0:3]}, I found a bigger dinner table!')\n"
   ]
  },
  {
   "cell_type": "markdown",
   "id": "64192905",
   "metadata": {},
   "source": [
    "**3-7. Shrinking Guest List:** You just found out that your new dinner table won't arrive in time for the dinner and you have space for only two guests.\n",
    "\n",
    "  * Start with the program above. Add a new line that prints a message saying that you can invite only two people for dinner.\n",
    "  * Use ``pop()`` to remove guests from your list one at a time until only two names remain in your list. Each time you pop a name from your list, print a message to that person letting them know you're sorry you can't invite them to dinner.\n",
    "  * Print a message to each of the two people still on your list, letting them know they are still invited.\n",
    "  * Use ``del`` to remove the last two names from your list, so you have an empty list. Print your list to make sure you actually have an empty list at the end of your program."
   ]
  },
  {
   "cell_type": "code",
   "execution_count": null,
   "id": "a010b630",
   "metadata": {},
   "outputs": [],
   "source": []
  },
  {
   "cell_type": "markdown",
   "id": "eba8d03c",
   "metadata": {},
   "source": [
    "**3-8. Seeing the World:** Think of at least five places in the world you'd like to visit.\n",
    "* Store the locations in a list. Make sure the list is not in alphabetical order.\n",
    "* Print your list in its original order. Don't worry about printing the list neatly, just print it as a raw Python list.\n",
    "* Use ``sorted()`` to print your list in alphabetical order without modifying the actual list.\n",
    "* Show that your list is still in its original order by printing it.\n",
    "* Use ``sorted()`` to print your list in reverse alphabetical order without changing the order of the original list.\n",
    "* Show that your list is still in its original order by printing it again.\n",
    "* Use ``reverse()`` to change the order of your list. Print the list to show that its order has changed.\n",
    "* Use ``reverse()`` to change the order of your list again. Print the list to show it's back in its original order.\n",
    "* Use ``sort()`` to change your list so it's stored in reverse alphabetical order. Print the list to show that its order has changed."
   ]
  },
  {
   "cell_type": "code",
   "execution_count": null,
   "id": "b12002b1",
   "metadata": {},
   "outputs": [],
   "source": []
  },
  {
   "cell_type": "markdown",
   "id": "e33c50a6",
   "metadata": {},
   "source": [
    "**3-9. Dinner Guests:** Working with one of the programs from **3-4** through **3-7**, use ``len()`` to print a message indicating the number of people you are inviting to dinner."
   ]
  },
  {
   "cell_type": "code",
   "execution_count": null,
   "id": "9e9fa46e",
   "metadata": {},
   "outputs": [],
   "source": []
  },
  {
   "cell_type": "markdown",
   "id": "74b5b005",
   "metadata": {},
   "source": [
    "**3-10. Every Function:** Think of something you could store in a list. For example, you could make a list of mountains, rivers, countries, cities, languages, or anything else you'd like. Write a program that creates a list containing these items and then uses each function introduced in this chapter at least once. "
   ]
  },
  {
   "cell_type": "code",
   "execution_count": null,
   "id": "a382e45b",
   "metadata": {},
   "outputs": [],
   "source": []
  },
  {
   "cell_type": "markdown",
   "id": "420c52a0",
   "metadata": {},
   "source": [
    "**3-11. Intentional Error:** Change an index in one of your programs to produce an index error. Learning how to read and understand Python error messages can significantly speed up your code debugging."
   ]
  },
  {
   "cell_type": "code",
   "execution_count": null,
   "id": "fb9c53b9",
   "metadata": {},
   "outputs": [],
   "source": []
  }
 ],
 "metadata": {
  "kernelspec": {
   "display_name": "Python 3 (ipykernel)",
   "language": "python",
   "name": "python3"
  },
  "language_info": {
   "codemirror_mode": {
    "name": "ipython",
    "version": 3
   },
   "file_extension": ".py",
   "mimetype": "text/x-python",
   "name": "python",
   "nbconvert_exporter": "python",
   "pygments_lexer": "ipython3",
   "version": "3.11.4"
  }
 },
 "nbformat": 4,
 "nbformat_minor": 5
}
