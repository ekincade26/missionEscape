{
 "cells": [
  {
   "cell_type": "code",
   "execution_count": 2,
   "id": "7590fb3a",
   "metadata": {},
   "outputs": [
    {
     "name": "stdout",
     "output_type": "stream",
     "text": [
      "Running weather_api.py\n"
     ]
    },
    {
     "name": "stderr",
     "output_type": "stream",
     "text": [
      "C:\\ProgramData\\anaconda3\\Lib\\site-packages\\urllib3\\connectionpool.py:1056: InsecureRequestWarning: Unverified HTTPS request is being made to host 'nominatim.openstreetmap.org'. Adding certificate verification is strongly advised. See: https://urllib3.readthedocs.io/en/1.26.x/advanced-usage.html#ssl-warnings\n",
      "  warnings.warn(\n"
     ]
    },
    {
     "name": "stdout",
     "output_type": "stream",
     "text": [
      "[\n",
      "  {\n",
      "    \"place_id\": 3809116,\n",
      "    \"licence\": \"Data \\u00a9 OpenStreetMap contributors, ODbL 1.0. http://osm.org/copyright\",\n",
      "    \"osm_type\": \"relation\",\n",
      "    \"osm_id\": 133571,\n",
      "    \"lat\": \"38.9786401\",\n",
      "    \"lon\": \"-76.492786\",\n",
      "    \"class\": \"boundary\",\n",
      "    \"type\": \"administrative\",\n",
      "    \"place_rank\": 16,\n",
      "    \"importance\": 0.5722443958642912,\n",
      "    \"addresstype\": \"city\",\n",
      "    \"name\": \"Annapolis\",\n",
      "    \"display_name\": \"Annapolis, Anne Arundel County, Maryland, United States\",\n",
      "    \"boundingbox\": [\n",
      "      \"38.9424993\",\n",
      "      \"39.0025548\",\n",
      "      \"-76.5395832\",\n",
      "      \"-76.4686762\"\n",
      "    ]\n",
      "  }\n",
      "]\n",
      "End of line\n"
     ]
    }
   ],
   "source": [
    "import requests\n",
    "import json\n",
    "\n",
    "print('Running weather_api.py')\n",
    "location = \"Annapolis, MD\"\n",
    "addr = f\"https://nominatim.openstreetmap.org/search?q={location}&format=json&verify=False\"\n",
    "resp = requests.get(addr, verify=False)\n",
    "data = resp.json()\n",
    "print(json.dumps(data,indent=2))\n",
    "\n",
    "print('End of line')"
   ]
  },
  {
   "cell_type": "code",
   "execution_count": 3,
   "id": "d8dd2421",
   "metadata": {},
   "outputs": [
    {
     "name": "stdout",
     "output_type": "stream",
     "text": [
      "Annapolis, MD is at lat: 38.9786401 lon: -76.492786\n"
     ]
    }
   ],
   "source": [
    "lat = data[0]['lat'] ####str\n",
    "lon = data[0]['lon']\n",
    "print(f'{location} is at lat: {lat} lon: {lon}')"
   ]
  },
  {
   "cell_type": "code",
   "execution_count": 5,
   "id": "09a5c9f3",
   "metadata": {},
   "outputs": [
    {
     "name": "stdout",
     "output_type": "stream",
     "text": [
      "Running weather_api.py\n",
      "please enter lat coordinate: 25.7617\n",
      "please enter lon coordinate: 80.1918\n",
      "{\n",
      "  \"coord\": {\n",
      "    \"lon\": 80.1918,\n",
      "    \"lat\": 25.7617\n",
      "  },\n",
      "  \"weather\": [\n",
      "    {\n",
      "      \"id\": 800,\n",
      "      \"main\": \"Clear\",\n",
      "      \"description\": \"clear sky\",\n",
      "      \"icon\": \"01n\"\n",
      "    }\n",
      "  ],\n",
      "  \"base\": \"stations\",\n",
      "  \"main\": {\n",
      "    \"temp\": 300.71,\n",
      "    \"feels_like\": 300.7,\n",
      "    \"temp_min\": 300.71,\n",
      "    \"temp_max\": 300.71,\n",
      "    \"pressure\": 1007,\n",
      "    \"humidity\": 44,\n",
      "    \"sea_level\": 1007,\n",
      "    \"grnd_level\": 994\n",
      "  },\n",
      "  \"visibility\": 10000,\n",
      "  \"wind\": {\n",
      "    \"speed\": 2.61,\n",
      "    \"deg\": 353,\n",
      "    \"gust\": 2.7\n",
      "  },\n",
      "  \"clouds\": {\n",
      "    \"all\": 2\n",
      "  },\n",
      "  \"dt\": 1696430132,\n",
      "  \"sys\": {\n",
      "    \"country\": \"IN\",\n",
      "    \"sunrise\": 1696379541,\n",
      "    \"sunset\": 1696422224\n",
      "  },\n",
      "  \"timezone\": 19800,\n",
      "  \"id\": 1263303,\n",
      "  \"name\": \"Maudaha\",\n",
      "  \"cod\": 200\n",
      "}\n",
      "The temperature is 81.608 degrees Farenheit\n",
      "End of line\n"
     ]
    },
    {
     "name": "stderr",
     "output_type": "stream",
     "text": [
      "C:\\ProgramData\\anaconda3\\Lib\\site-packages\\urllib3\\connectionpool.py:1056: InsecureRequestWarning: Unverified HTTPS request is being made to host 'api.openweathermap.org'. Adding certificate verification is strongly advised. See: https://urllib3.readthedocs.io/en/1.26.x/advanced-usage.html#ssl-warnings\n",
      "  warnings.warn(\n"
     ]
    }
   ],
   "source": [
    "import requests\n",
    "import json\n",
    "#api_key = '172c1e5faa69680eb9083908e49558d3'\n",
    "api_key = 'd8e93b6660a0bf949beeeeaa430d7de9'\n",
    "print('Running weather_api.py')\n",
    "lat = input('please enter lat coordinate: ')\n",
    "lon = input('please enter lon coordinate: ')\n",
    "#location = \"Annapolis, MD\"\n",
    "search_addr = f\"https://api.openweathermap.org/data/2.5/weather?lat={lat}&lon={lon}&appid={api_key}\"\n",
    "resp = requests.get(search_addr, verify=False)\n",
    "data = resp.json()\n",
    "print(json.dumps(data,indent=2))\n",
    "\n",
    "def kelvinToFahrenheit(temp):\n",
    "    k = float(temp)\n",
    "    f = (k-273.15)*1.8\n",
    "    f = f+32\n",
    "    print(f'The temperature is {f} degrees Farenheit')\n",
    "\n",
    "kelvinToFahrenheit(data['main']['temp'])\n",
    "\n",
    "print('End of line')"
   ]
  },
  {
   "cell_type": "code",
   "execution_count": 11,
   "id": "39d2d112",
   "metadata": {},
   "outputs": [
    {
     "name": "stdout",
     "output_type": "stream",
     "text": [
      "Running weather_api.py\n",
      "where would you like to check the weather? Atlanta, GA\n"
     ]
    },
    {
     "name": "stderr",
     "output_type": "stream",
     "text": [
      "C:\\ProgramData\\anaconda3\\Lib\\site-packages\\urllib3\\connectionpool.py:1056: InsecureRequestWarning: Unverified HTTPS request is being made to host 'nominatim.openstreetmap.org'. Adding certificate verification is strongly advised. See: https://urllib3.readthedocs.io/en/1.26.x/advanced-usage.html#ssl-warnings\n",
      "  warnings.warn(\n",
      "C:\\ProgramData\\anaconda3\\Lib\\site-packages\\urllib3\\connectionpool.py:1056: InsecureRequestWarning: Unverified HTTPS request is being made to host 'api.openweathermap.org'. Adding certificate verification is strongly advised. See: https://urllib3.readthedocs.io/en/1.26.x/advanced-usage.html#ssl-warnings\n",
      "  warnings.warn(\n"
     ]
    },
    {
     "ename": "NameError",
     "evalue": "name 'f' is not defined",
     "output_type": "error",
     "traceback": [
      "\u001b[1;31m---------------------------------------------------------------------------\u001b[0m",
      "\u001b[1;31mNameError\u001b[0m                                 Traceback (most recent call last)",
      "Cell \u001b[1;32mIn[11], line 26\u001b[0m\n\u001b[0;32m     23\u001b[0m     f \u001b[38;5;241m=\u001b[39m \u001b[38;5;28mformat\u001b[39m(f,\u001b[38;5;124m\"\u001b[39m\u001b[38;5;124m.2f\u001b[39m\u001b[38;5;124m\"\u001b[39m)\n\u001b[0;32m     25\u001b[0m kelvinToFahrenheit(datatwo[\u001b[38;5;124m'\u001b[39m\u001b[38;5;124mmain\u001b[39m\u001b[38;5;124m'\u001b[39m][\u001b[38;5;124m'\u001b[39m\u001b[38;5;124mtemp\u001b[39m\u001b[38;5;124m'\u001b[39m])\n\u001b[1;32m---> 26\u001b[0m \u001b[38;5;28mprint\u001b[39m(\u001b[38;5;124mf\u001b[39m\u001b[38;5;124m'\u001b[39m\u001b[38;5;124mThe temperature is \u001b[39m\u001b[38;5;132;01m{\u001b[39;00mf\u001b[38;5;132;01m}\u001b[39;00m\u001b[38;5;124m degrees Farenheit in \u001b[39m\u001b[38;5;132;01m{\u001b[39;00mlocation\u001b[38;5;132;01m}\u001b[39;00m\u001b[38;5;124m and it is\u001b[39m\u001b[38;5;124m'\u001b[39m)\n\u001b[0;32m     27\u001b[0m \u001b[38;5;66;03m#{datatwo['weather']['description']}'\u001b[39;00m\n\u001b[0;32m     29\u001b[0m \u001b[38;5;28mprint\u001b[39m(\u001b[38;5;124m'\u001b[39m\u001b[38;5;124mEnd of line\u001b[39m\u001b[38;5;124m'\u001b[39m)\n",
      "\u001b[1;31mNameError\u001b[0m: name 'f' is not defined"
     ]
    }
   ],
   "source": [
    "import requests\n",
    "import json\n",
    "\n",
    "print('Running weather_api.py')\n",
    "location = input('where would you like to check the weather? ')\n",
    "addr = f\"https://nominatim.openstreetmap.org/search?q={location}&format=json&verify=False\"\n",
    "resp = requests.get(addr, verify=False)\n",
    "data = resp.json()\n",
    "#print(json.dumps(data,indent=2))\n",
    "lat = data[0]['lat'] ####str\n",
    "lon = data[0]['lon']\n",
    "#print(f'{location} is at lat: {lat} lon: {lon}')\n",
    "\n",
    "search_addr = f\"https://api.openweathermap.org/data/2.5/weather?lat={lat}&lon={lon}&appid={api_key}\"\n",
    "resp = requests.get(search_addr, verify=False)\n",
    "datatwo = resp.json()\n",
    "print(json.dumps(datatwo,indent=2))\n",
    "\n",
    "def kelvinToFahrenheit(temp):\n",
    "    k = float(temp)\n",
    "    f = (k-273.15)*1.8\n",
    "    f = f+32\n",
    "    f = format(f,\".2f\")\n",
    "    \n",
    "kelvinToFahrenheit(datatwo['main']['temp'])\n",
    "print(f'The temperature is {f} degrees Farenheit in {location} and it is')\n",
    "#{datatwo['weather']['description']}'\n",
    "\n",
    "print('End of line')"
   ]
  },
  {
   "cell_type": "code",
   "execution_count": null,
   "id": "1df23ec7",
   "metadata": {},
   "outputs": [],
   "source": []
  }
 ],
 "metadata": {
  "kernelspec": {
   "display_name": "Python 3 (ipykernel)",
   "language": "python",
   "name": "python3"
  },
  "language_info": {
   "codemirror_mode": {
    "name": "ipython",
    "version": 3
   },
   "file_extension": ".py",
   "mimetype": "text/x-python",
   "name": "python",
   "nbconvert_exporter": "python",
   "pygments_lexer": "ipython3",
   "version": "3.11.4"
  }
 },
 "nbformat": 4,
 "nbformat_minor": 5
}
