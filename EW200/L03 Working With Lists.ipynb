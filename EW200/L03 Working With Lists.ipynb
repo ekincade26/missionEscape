{
 "cells": [
  {
   "cell_type": "markdown",
   "id": "5c8014ef",
   "metadata": {},
   "source": [
    "<img src=\"https://www.usna.edu/WRC/_files/WRClogos/WRCE-logo-combined-01-crop.png\" width=\"200px\">\n",
    "\n",
    "# Working With Lists (Chapter 4)"
   ]
  },
  {
   "cell_type": "code",
   "execution_count": 4,
   "id": "843e1910",
   "metadata": {},
   "outputs": [
    {
     "name": "stdout",
     "output_type": "stream",
     "text": [
      "apple\n",
      "banana\n",
      "pear\n",
      "apple\n",
      "banana\n",
      "pear\n",
      "cruel summer\n",
      "16\n",
      "7 summers\n"
     ]
    }
   ],
   "source": [
    "# Looping through an entire list\n",
    "fruits=['apple','banana','pear']\n",
    "for fruit in fruits:\n",
    "    print(fruit)\n",
    "    \n",
    "# the loop variable does not have to be related to the list name\n",
    "for x in fruits:\n",
    "    print(x) # but this isn't very easy to read\n",
    "    \n",
    "# TODO Print a list of your favorite songs\n",
    "songs = ['cruel summer', '16', '7 summers']\n",
    "for song in songs:\n",
    "    print(song)"
   ]
  },
  {
   "cell_type": "code",
   "execution_count": 7,
   "id": "0b90de2a",
   "metadata": {},
   "outputs": [
    {
     "name": "stdout",
     "output_type": "stream",
     "text": [
      "That looks like one tasty apple!\n",
      "\tmunch, munch, munch\n",
      "That looks like one tasty banana!\n",
      "\tmunch, munch, munch\n",
      "That looks like one tasty pear!\n",
      "\tmunch, munch, munch\n",
      "cruel summer\n",
      "\trocks!\n",
      "16\n",
      "\trocks!\n",
      "7 summers\n",
      "\trocks!\n"
     ]
    }
   ],
   "source": [
    "# you can put as much code as you want in a loop\n",
    "fruits=['apple','banana','pear']\n",
    "for fruit in fruits:\n",
    "    print(f\"That looks like one tasty {fruit}!\")\n",
    "    print('\\tmunch, munch, munch') # an extra blank line\n",
    "    \n",
    "# TODO write your own multi-line for loop using your song list\n",
    "songs = ['cruel summer', '16', '7 summers']\n",
    "for song in songs:\n",
    "    print(song)\n",
    "    print('\\trocks!')\n",
    "    "
   ]
  },
  {
   "cell_type": "code",
   "execution_count": 2,
   "id": "2e1ce3f2",
   "metadata": {},
   "outputs": [
    {
     "name": "stdout",
     "output_type": "stream",
     "text": [
      "That looks like one tasty apple!\n",
      "\tmunch, munch, munch\n",
      "That looks like one tasty banana!\n",
      "\tmunch, munch, munch\n",
      "That looks like one tasty pear!\n",
      "\tmunch, munch, munch\n",
      "Now I'm full!\n"
     ]
    }
   ],
   "source": [
    "# do add code after the loop, simply do not indent it\n",
    "fruits=['apple','banana','pear']\n",
    "for fruit in fruits:\n",
    "    print(f\"That looks like one tasty {fruit}!\")\n",
    "    print(\"\\tmunch, munch, munch\")\n",
    "print(\"Now I'm full!\") # only runs once"
   ]
  },
  {
   "cell_type": "code",
   "execution_count": 3,
   "id": "4fda8e56",
   "metadata": {},
   "outputs": [
    {
     "name": "stdout",
     "output_type": "stream",
     "text": [
      "apple\n",
      "banana\n",
      "pear\n",
      "I like fruit!\n"
     ]
    }
   ],
   "source": [
    "# Be careful with your identation!\n",
    "# TODO fix each of the indentation errors below\n",
    "\n",
    "for fruit in fruits:\n",
    "    print(fruit)\n",
    "\n",
    "print(\"I like fruit!\")\n",
    "    "
   ]
  },
  {
   "cell_type": "markdown",
   "id": "fa8d92b4",
   "metadata": {},
   "source": [
    "### Making Numerical Lists"
   ]
  },
  {
   "cell_type": "code",
   "execution_count": 4,
   "id": "f8fb886e",
   "metadata": {},
   "outputs": [
    {
     "name": "stdout",
     "output_type": "stream",
     "text": [
      "0\n",
      "1\n",
      "2\n",
      "3\n",
      "4\n",
      "\n",
      "\n",
      "2\n",
      "3\n",
      "4\n",
      "5\n",
      "6\n",
      "7\n",
      "8\n",
      "9\n",
      "\n",
      "\n",
      "2\n",
      "4\n",
      "6\n",
      "8\n",
      "\n",
      "\n",
      "10\n",
      "9\n",
      "8\n",
      "7\n",
      "6\n",
      "5\n",
      "4\n",
      "3\n",
      "2\n",
      "1\n",
      "0\n",
      "Blast off!\n",
      "\n",
      "\n",
      "0\n",
      "10\n",
      "20\n",
      "30\n",
      "40\n",
      "50\n",
      "60\n",
      "70\n",
      "80\n",
      "90\n",
      "100\n"
     ]
    }
   ],
   "source": [
    "# the range() function generates a list of numbers\n",
    "for value in range(5):\n",
    "    print(value) # 0..4, DOES NOT INCLUDE 5!\n",
    "\n",
    "print(\"\\n\")\n",
    "\n",
    "# you can specify the start and end points\n",
    "for value in range(2,10):\n",
    "    print(value)\n",
    "    \n",
    "print(\"\\n\")\n",
    "\n",
    "# you can also specify the step size\n",
    "for value in range(2,10,2):\n",
    "    print(value)\n",
    "\n",
    "# TODO\n",
    "# print a countdown from 10 to 0 and then print \"Blast off!\"\n",
    "print(\"\\n\")\n",
    "for value in range(10,-1,-1):\n",
    "    print(value)\n",
    "print('Blast off!')\n",
    "# count to 100 by 10's\n",
    "print(\"\\n\")\n",
    "for value in range(0,101,10):\n",
    "    print(value)"
   ]
  },
  {
   "cell_type": "markdown",
   "id": "c1ed51d8",
   "metadata": {},
   "source": [
    "``range()`` is a generator, you can use the ``list()`` function to convert it into a typical list variable"
   ]
  },
  {
   "cell_type": "code",
   "execution_count": 14,
   "id": "061247c2",
   "metadata": {},
   "outputs": [
    {
     "name": "stdout",
     "output_type": "stream",
     "text": [
      "range(0, 10)\n",
      "[0, 1, 2, 3, 4, 5, 6, 7, 8, 9]\n"
     ]
    }
   ],
   "source": [
    "values = range(10)\n",
    "print(values) # probably not what you want\n",
    "\n",
    "values = list(range(10)) # convert range output into a list\n",
    "print(values)"
   ]
  },
  {
   "cell_type": "code",
   "execution_count": 17,
   "id": "c1d1ddb7",
   "metadata": {},
   "outputs": [
    {
     "name": "stdout",
     "output_type": "stream",
     "text": [
      "-100\n",
      "56\n",
      "-40\n",
      "385\n"
     ]
    }
   ],
   "source": [
    "# built-in functions provide basic statistics for numeric lists\n",
    "values = [-100,10,4,56,-10]\n",
    "\n",
    "print(min(values))\n",
    "\n",
    "print(max(values))\n",
    "\n",
    "print(sum(values))\n",
    "\n",
    "## TODO compute the sum of the squares from 1-10 (1+4+9+...+100)\n",
    "squares = [1,4,9,16,25,36,49,64,81,100]\n",
    "print(sum(squares))"
   ]
  },
  {
   "cell_type": "code",
   "execution_count": 21,
   "id": "985130bd",
   "metadata": {},
   "outputs": [
    {
     "name": "stdout",
     "output_type": "stream",
     "text": [
      "[10, 4, 5, 8, 6]\n",
      "385\n"
     ]
    }
   ],
   "source": [
    "# list comprehensions can simplify your code\n",
    "positive_values = [abs(x) for x in [-10,-4,5,8,-6]]\n",
    "print(positive_values)\n",
    "\n",
    "# TODO write a list comprehension to compute the sum of the squares from 1-10\n",
    "sum_squares = [pow(y,2) for y in [1,2,3,4,5,6,7,8,9,10]]\n",
    "print(sum(sum_squares))\n"
   ]
  },
  {
   "cell_type": "markdown",
   "id": "e217bd5e",
   "metadata": {},
   "source": [
    "### Working with part of a list"
   ]
  },
  {
   "cell_type": "code",
   "execution_count": 22,
   "id": "856a916a",
   "metadata": {},
   "outputs": [
    {
     "name": "stdout",
     "output_type": "stream",
     "text": [
      "['bob', 'charlie']\n",
      "['dan', 'edward']\n",
      "['alice', 'bob', 'charlie', 'dan']\n",
      "['dan', 'edward', 'frank']\n",
      "['edward', 'frank']\n"
     ]
    }
   ],
   "source": [
    "# slicing a list\n",
    "students = [\"alice\",\"bob\",\"charlie\",\"dan\",\"edward\",\"frank\"]\n",
    "print(students[1:3]) # does not include 3 (like range)\n",
    "\n",
    "print(students[3:5]) # does include 3 (again, just like range)\n",
    "\n",
    "# start at the begining\n",
    "print(students[:4])\n",
    "\n",
    "# go to the end\n",
    "print(students[3:])\n",
    "\n",
    "# count back from the end\n",
    "print(students[-2:])"
   ]
  },
  {
   "cell_type": "code",
   "execution_count": 23,
   "id": "5d66ae45",
   "metadata": {},
   "outputs": [
    {
     "name": "stdout",
     "output_type": "stream",
     "text": [
      "The first students are:\n",
      "\talice\n",
      "\tbob\n",
      "\tcharlie\n",
      "The last students are:\n",
      "\tdan\n",
      "\tedward\n",
      "\tfrank\n"
     ]
    }
   ],
   "source": [
    "# loops work on slices too\n",
    "students = [\"alice\",\"bob\",\"charlie\",\"dan\",\"edward\",\"frank\"]\n",
    "\n",
    "print(\"The first students are:\")\n",
    "for student in students[:3]:\n",
    "    print(f\"\\t{student}\")\n",
    "print(\"The last students are:\")\n",
    "for student in students[3:]:\n",
    "    print(f\"\\t{student}\")"
   ]
  },
  {
   "cell_type": "markdown",
   "id": "1e80cd4f",
   "metadata": {},
   "source": [
    "### Copying lists  \n",
    "Be careful! Making a copy is not as simple as setting a new variable equal to the old variable"
   ]
  },
  {
   "cell_type": "code",
   "execution_count": 24,
   "id": "475b4b45",
   "metadata": {},
   "outputs": [
    {
     "name": "stdout",
     "output_type": "stream",
     "text": [
      "Fruits: ['apple', 'banana', 'pear']\n",
      "Copy of Fruits: ['apple', 'banana', 'pear', 'strawberry']\n",
      "\n",
      "\n",
      "Fruits: ['apple', 'banana', 'pear', 'watermelon'] ????\n",
      "Copy of Fruits: ['apple', 'banana', 'pear', 'watermelon']\n"
     ]
    }
   ],
   "source": [
    "# to copy a list make a slice that includes everything\n",
    "fruits=['apple','banana','pear']\n",
    "\n",
    "fruit_copy = fruits[:]\n",
    "fruit_copy.append(\"strawberry\")\n",
    "print(f\"Fruits: {fruits}\")\n",
    "print(f\"Copy of Fruits: {fruit_copy}\")\n",
    "\n",
    "print(\"\\n\")\n",
    "\n",
    "# THIS DOES NOT WORK\n",
    "bad_copy = fruits\n",
    "bad_copy.append(\"watermelon\")\n",
    "print(f\"Fruits: {fruits} ????\")\n",
    "print(f\"Copy of Fruits: {bad_copy}\")\n",
    "\n",
    "# Helpful Hint: Think of variables as \"labels\" not \"storage boxes\""
   ]
  },
  {
   "cell_type": "markdown",
   "id": "f5a108e0",
   "metadata": {},
   "source": [
    "### Using `range()` as an index variable\n",
    "Sometimes you want to work with multpile lists at the same time or only certain items in a list. The `range()` function can be useful in both situations."
   ]
  },
  {
   "cell_type": "code",
   "execution_count": 25,
   "id": "5cc2bc91",
   "metadata": {},
   "outputs": [
    {
     "name": "stdout",
     "output_type": "stream",
     "text": [
      "alice likes apples\n",
      "bob likes bananas\n",
      "charlie likes celery\n",
      "dan likes danishes\n",
      "edward likes eggplant\n",
      "frank likes frozen yogurt\n",
      "\n",
      "\n",
      "a selection of foods:\n",
      "bananas\n",
      "danishes\n",
      "frozen yogurt\n"
     ]
    }
   ],
   "source": [
    "students = [\"alice\",\"bob\",\"charlie\",\"dan\",\"edward\",\"frank\"]\n",
    "foods =    [\"apples\",\"bananas\",\"celery\",\"danishes\",\"eggplant\",\"frozen yogurt\"]\n",
    "\n",
    "for i in range(6):\n",
    "    print(f\"{students[i]} likes {foods[i]}\")\n",
    "\n",
    "print(\"\\n\")\n",
    "\n",
    "print(\"a selection of foods:\")\n",
    "for i in range(1,6,2):\n",
    "    print(foods[i])"
   ]
  },
  {
   "cell_type": "markdown",
   "id": "bb2dddd7",
   "metadata": {},
   "source": [
    "### Tuples\n",
    "Tuples are like lists but they cannot change. You can think of a tuple as a simpler version of a list. Use them when you need constant values."
   ]
  },
  {
   "cell_type": "code",
   "execution_count": 26,
   "id": "5d8ba739",
   "metadata": {},
   "outputs": [
    {
     "name": "stdout",
     "output_type": "stream",
     "text": [
      "I want an apple\n",
      "I want an apple\n",
      "banana\n",
      "pear\n",
      "banana\n",
      "pear\n"
     ]
    },
    {
     "ename": "AttributeError",
     "evalue": "'tuple' object has no attribute 'append'",
     "output_type": "error",
     "traceback": [
      "\u001b[1;31m---------------------------------------------------------------------------\u001b[0m",
      "\u001b[1;31mAttributeError\u001b[0m                            Traceback (most recent call last)",
      "Cell \u001b[1;32mIn[26], line 16\u001b[0m\n\u001b[0;32m     14\u001b[0m \u001b[38;5;66;03m# But you cannot change a tuple\u001b[39;00m\n\u001b[0;32m     15\u001b[0m fruit_list\u001b[38;5;241m.\u001b[39mappend(\u001b[38;5;124m'\u001b[39m\u001b[38;5;124mcherry\u001b[39m\u001b[38;5;124m'\u001b[39m) \u001b[38;5;66;03m# ok\u001b[39;00m\n\u001b[1;32m---> 16\u001b[0m fruit_tuple\u001b[38;5;241m.\u001b[39mappend(\u001b[38;5;124m'\u001b[39m\u001b[38;5;124mcherry\u001b[39m\u001b[38;5;124m'\u001b[39m)\n",
      "\u001b[1;31mAttributeError\u001b[0m: 'tuple' object has no attribute 'append'"
     ]
    }
   ],
   "source": [
    "fruit_list = ['apple','banana','pear']\n",
    "fruit_tuple =  ('apple','banana','pear')\n",
    "\n",
    "# Indexing works the same for lists and tuples\n",
    "print(f\"I want an {fruit_list[0]}\")\n",
    "print(f\"I want an {fruit_tuple[0]}\")\n",
    "\n",
    "# loops and slices work the same for lists and tuples\n",
    "for fruit in fruit_list[1:]:\n",
    "    print(fruit)\n",
    "for fruit in fruit_tuple[1:]:\n",
    "    print(fruit)\n",
    "\n",
    "# But you cannot change a tuple\n",
    "fruit_list.append('cherry') # ok\n",
    "fruit_tuple.append('cherry') # error!"
   ]
  },
  {
   "cell_type": "markdown",
   "id": "47270005",
   "metadata": {},
   "source": [
    "-----\n",
    "\n",
    "## Homework Problems"
   ]
  },
  {
   "cell_type": "markdown",
   "id": "81dcf11a",
   "metadata": {},
   "source": [
    "**4-1. Pizzas:** Think of at least three kinds of your favorit pizza. Store these pizza names in a list, and then use a ``for``loop to print the name of each pizza.\n",
    "  * Modify your ``for`` loop to print a sentence using the name of the pizza instead of printing just the name of the pizza. For each pizza you should have one line of output containing a simple statement like *I like pepperoni pizza*.\n",
    "  * Add a line at the end of your program, outside the ``for`` loop, that states how much you like pizza. The output should consist of three or more lines about the kinds of pizza you like and then an additional sentence, such as *I really love pizza!*"
   ]
  },
  {
   "cell_type": "code",
   "execution_count": 29,
   "id": "ccc12ff4",
   "metadata": {},
   "outputs": [
    {
     "name": "stdout",
     "output_type": "stream",
     "text": [
      "I like cheese pizza.\n",
      "I like pepperoni pizza.\n",
      "I like veggie pizza.\n",
      "I really love pizza!\n"
     ]
    }
   ],
   "source": [
    "pizza = ['cheese', 'pepperoni', 'veggie']\n",
    "for flavor in pizza:\n",
    "    print(f\"I like {flavor} pizza.\")\n",
    "print(\"I really love pizza!\")\n",
    "    "
   ]
  },
  {
   "cell_type": "markdown",
   "id": "73a03d0b",
   "metadata": {},
   "source": [
    "**4-2. Animals:** Think of at least three different animals that have a common characteristic. Store the names of these animals in a list, and then use a ``for``loop to print out the name of each animal.\n",
    "  * Modify your program to print a statement about each animal, such as *A dog would make a great pet.*\n",
    "  * Add a line at the end of your program stating what these animals have in common. You could print a sentence such as *Any of these animals would make a great pet!*"
   ]
  },
  {
   "cell_type": "code",
   "execution_count": 34,
   "id": "0262f813",
   "metadata": {},
   "outputs": [
    {
     "name": "stdout",
     "output_type": "stream",
     "text": [
      "A crab would not make a good pet.\n",
      "A whale would not make a good pet.\n",
      "A shark would not make a good pet.\n",
      "All of these animals live in the ocean.\n"
     ]
    }
   ],
   "source": [
    "animals = ['crab', 'whale', 'shark']\n",
    "for animal in animals:\n",
    "    print(f\"A {animal} would not make a good pet.\")\n",
    "print(\"All of these animals live in the ocean.\")"
   ]
  },
  {
   "cell_type": "markdown",
   "id": "c85564b9",
   "metadata": {},
   "source": [
    "**4-3 Counting to Twenty:** Use a ``for`` loop to print the numbers from 1 to 20, inclusive  "
   ]
  },
  {
   "cell_type": "code",
   "execution_count": 36,
   "id": "1d9882a3",
   "metadata": {},
   "outputs": [
    {
     "name": "stdout",
     "output_type": "stream",
     "text": [
      "1\n",
      "2\n",
      "3\n",
      "4\n",
      "5\n",
      "6\n",
      "7\n",
      "8\n",
      "9\n",
      "10\n",
      "11\n",
      "12\n",
      "13\n",
      "14\n",
      "15\n",
      "16\n",
      "17\n",
      "18\n",
      "19\n",
      "20\n"
     ]
    }
   ],
   "source": [
    "for value in range(1,21):\n",
    "    print(value)"
   ]
  },
  {
   "cell_type": "markdown",
   "id": "bb6a1391",
   "metadata": {},
   "source": [
    "**4-4. One Hundred:** Make a list of the numbers from one to one hundred, and then use a `for` loop to print the numbers"
   ]
  },
  {
   "cell_type": "code",
   "execution_count": 40,
   "id": "1d82fa34",
   "metadata": {},
   "outputs": [
    {
     "name": "stdout",
     "output_type": "stream",
     "text": [
      "1\n",
      "2\n",
      "3\n",
      "4\n",
      "5\n",
      "6\n",
      "7\n",
      "8\n",
      "9\n",
      "10\n",
      "11\n",
      "12\n",
      "13\n",
      "14\n",
      "15\n",
      "16\n",
      "17\n",
      "18\n",
      "19\n",
      "20\n",
      "21\n",
      "22\n",
      "23\n",
      "24\n",
      "25\n",
      "26\n",
      "27\n",
      "28\n",
      "29\n",
      "30\n",
      "31\n",
      "32\n",
      "33\n",
      "34\n",
      "35\n",
      "36\n",
      "37\n",
      "38\n",
      "39\n",
      "40\n",
      "41\n",
      "42\n",
      "43\n",
      "44\n",
      "45\n",
      "46\n",
      "47\n",
      "48\n",
      "49\n",
      "50\n",
      "51\n",
      "52\n",
      "53\n",
      "54\n",
      "55\n",
      "56\n",
      "57\n",
      "58\n",
      "59\n",
      "60\n",
      "61\n",
      "62\n",
      "63\n",
      "64\n",
      "65\n",
      "66\n",
      "67\n",
      "68\n",
      "69\n",
      "70\n",
      "71\n",
      "72\n",
      "73\n",
      "74\n",
      "75\n",
      "76\n",
      "77\n",
      "78\n",
      "79\n",
      "80\n",
      "81\n",
      "82\n",
      "83\n",
      "84\n",
      "85\n",
      "86\n",
      "87\n",
      "88\n",
      "89\n",
      "90\n",
      "91\n",
      "92\n",
      "93\n",
      "94\n",
      "95\n",
      "96\n",
      "97\n",
      "98\n",
      "99\n",
      "100\n"
     ]
    }
   ],
   "source": [
    "nums = range(1,101)\n",
    "for numbers in nums:\n",
    "    print(numbers)"
   ]
  },
  {
   "cell_type": "markdown",
   "id": "74eca05e",
   "metadata": {},
   "source": [
    "**4-5. Summing a Million:** Make a list of the numbers from one to one million, and then use ``min()`` and ``max()`` to make sure your list actually starts at one and ends at one million. Also use the ``sum()`` function to see how quickly Python can add numbers. "
   ]
  },
  {
   "cell_type": "code",
   "execution_count": 48,
   "id": "f8b63804",
   "metadata": {},
   "outputs": [
    {
     "name": "stdout",
     "output_type": "stream",
     "text": [
      "1\n",
      "1000000\n",
      "500000500000\n"
     ]
    }
   ],
   "source": [
    "nmbers = list(range(1, 1000001))\n",
    "print(min(nmbers))\n",
    "print(max(nmbers))\n",
    "print(sum(nmbers))"
   ]
  },
  {
   "cell_type": "markdown",
   "id": "25de1906",
   "metadata": {},
   "source": [
    "**4-6. Odd Numbers**: Use the third argument of the ``range()`` function to make a list of the odd numbers from 10 to 20. Use a ``for`` loop to print each number."
   ]
  },
  {
   "cell_type": "code",
   "execution_count": 49,
   "id": "54d1e41e",
   "metadata": {},
   "outputs": [
    {
     "name": "stdout",
     "output_type": "stream",
     "text": [
      "11\n",
      "13\n",
      "15\n",
      "17\n",
      "19\n"
     ]
    }
   ],
   "source": [
    "odd = list(range(11,20,2))\n",
    "for num in odd:\n",
    "    print(num)"
   ]
  },
  {
   "cell_type": "markdown",
   "id": "22ee3985",
   "metadata": {},
   "source": [
    "**4-7. Threes:** Make a list of the multiples of 3 from 3 to 30. Use a ``for`` loop to print the numbers in your list. "
   ]
  },
  {
   "cell_type": "code",
   "execution_count": 50,
   "id": "4629605f",
   "metadata": {},
   "outputs": [
    {
     "name": "stdout",
     "output_type": "stream",
     "text": [
      "3\n",
      "6\n",
      "9\n",
      "12\n",
      "15\n",
      "18\n",
      "21\n",
      "24\n",
      "27\n",
      "30\n"
     ]
    }
   ],
   "source": [
    "multis = list(range(3,31,3))\n",
    "for nums in multis:\n",
    "    print(nums)"
   ]
  },
  {
   "cell_type": "markdown",
   "id": "e7e64a09",
   "metadata": {},
   "source": [
    "**4-8. Cubes:** A number raised to the third power is called a *cube*. For example, the cube of 2 is written as 2\\*\\*3 in Python. Make a list of the first 10 cubes (that is, the cube of each integer from 1 through 10), and use a `for` loop to print out the value of each cube."
   ]
  },
  {
   "cell_type": "code",
   "execution_count": 54,
   "id": "67ca84b2",
   "metadata": {},
   "outputs": [
    {
     "name": "stdout",
     "output_type": "stream",
     "text": [
      "1\n",
      "8\n",
      "27\n",
      "64\n",
      "125\n",
      "216\n",
      "343\n",
      "512\n",
      "729\n",
      "1000\n"
     ]
    }
   ],
   "source": [
    "nums = [1,8,27,64,125,216,343,512,729,1000]\n",
    "for numbers in nums:\n",
    "    print(numbers)"
   ]
  },
  {
   "cell_type": "markdown",
   "id": "980ed3d5",
   "metadata": {},
   "source": [
    "**4-9. Cube Comprehension:** Use a list comprehension to generate a list of the first 10 cubes."
   ]
  },
  {
   "cell_type": "code",
   "execution_count": 53,
   "id": "464b802e",
   "metadata": {},
   "outputs": [
    {
     "name": "stdout",
     "output_type": "stream",
     "text": [
      "1\n",
      "8\n",
      "27\n",
      "64\n",
      "125\n",
      "216\n",
      "343\n",
      "512\n",
      "729\n",
      "1000\n"
     ]
    }
   ],
   "source": [
    "start = [1,2,3,4,5,6,7,8,9,10]\n",
    "for num in start:\n",
    "    operation = pow(num,3)\n",
    "    print(operation)"
   ]
  },
  {
   "cell_type": "markdown",
   "id": "b499f379",
   "metadata": {},
   "source": [
    "**4-10: Slices:** Using one of the programs you wrote above, add several lines to the end of the program that do the following:\n",
    " * Print the message *The first three items in the list are:*. Then use a slice to print the first three items from that programs's list\n",
    " * Print the message *Three items from the middle of the list are:*. Use a slice to print three items from the middle of the list.\n",
    " * Print the message *The last three items in the list are:*. Use a slice to print the last three items in the list"
   ]
  },
  {
   "cell_type": "code",
   "execution_count": 59,
   "id": "73a81169",
   "metadata": {},
   "outputs": [
    {
     "name": "stdout",
     "output_type": "stream",
     "text": [
      "[1, 8, 27, 64, 125, 216, 343, 512, 729, 1000]\n",
      "The first three items in the list are [1, 8, 27]\n",
      "The middle three items in the list are [64, 125, 216]\n",
      "The last three items in the list are [343, 512, 729]\n"
     ]
    }
   ],
   "source": [
    "start = [1,2,3,4,5,6,7,8,9,10]\n",
    "new = []\n",
    "for num in start:\n",
    "    new.append(pow(num,3))\n",
    "print(new)\n",
    "print(f\"The first three items in the list are {new[0:3]}\")\n",
    "print(f\"The middle three items in the list are {new[3:6]}\")\n",
    "print(f\"The last three items in the list are {new[6:9]}\")\n"
   ]
  },
  {
   "cell_type": "markdown",
   "id": "5ace6d9a",
   "metadata": {},
   "source": [
    "**4-11. My Pizzas, Your Pizzas:** Start with your program from **4-1**. Make a copy o fthe list of pizzas, and call it `friend_pizzas`. Then, do the following:\n",
    " * Add a new pizza to the original list.\n",
    " * Add a different pizza to the list `friend_pizzas`.\n",
    " * Prove that you have two separate lists. Print the message *My favorite pizzas are:*, and then use a `for` loop to print the first list. Print the message *My friend's favorite pizzas are:*, and then use a `for` loop to print the second list. Make sure each new pizza is stored in the appropriate list."
   ]
  },
  {
   "cell_type": "code",
   "execution_count": 61,
   "id": "c457ebc1",
   "metadata": {},
   "outputs": [
    {
     "name": "stdout",
     "output_type": "stream",
     "text": [
      "My favorite pizzas are:\n",
      "cheese\n",
      "pepperoni\n",
      "veggie\n",
      "sausage\n",
      "\n",
      "\n",
      "My friend's favorite pizzas are:\n",
      "cheese\n",
      "pepperoni\n",
      "veggie\n",
      "pineapple\n"
     ]
    }
   ],
   "source": [
    "pizza = ['cheese', 'pepperoni', 'veggie', 'sausage']\n",
    "friend_pizzas = ['cheese','pepperoni','veggie','pineapple']\n",
    "print('My favorite pizzas are:')\n",
    "for flavor in pizza:\n",
    "    print(flavor)\n",
    "print('\\n')\n",
    "print(\"My friend's favorite pizzas are:\")\n",
    "for toppings in friend_pizzas:\n",
    "    print(toppings)\n",
    "    "
   ]
  },
  {
   "cell_type": "markdown",
   "id": "d4a77c47",
   "metadata": {},
   "source": [
    "**4-12. Index Variables:** Make a list of your favorite 5 vacation destinations from highest to lowest. Make another list of how much each vacaction would cost.\n",
    " * Use the range function to index through your list from least favorite to most favorite destination.\n",
    " * Use the reverse function to print the same information\n",
    " * Use the range function to index through both lists to print the cost of each vacation option."
   ]
  },
  {
   "cell_type": "code",
   "execution_count": 72,
   "id": "0cc2cce5",
   "metadata": {},
   "outputs": [
    {
     "name": "stdout",
     "output_type": "stream",
     "text": [
      "California\n",
      "New York\n",
      "Mountains\n",
      "Florida\n",
      "Gulf Shores\n",
      "\n",
      "\n",
      "['California', 'New York', 'Mountains', 'Florida', 'Gulf Shores']\n",
      "['Gulf Shores', 'Florida', 'Mountains', 'New York', 'California']\n",
      "\n",
      "\n",
      "California\n",
      "700\n",
      "\n",
      "\n",
      "New York\n",
      "600\n",
      "\n",
      "\n",
      "Mountains\n",
      "200\n",
      "\n",
      "\n",
      "Florida\n",
      "500\n",
      "\n",
      "\n",
      "Gulf Shores\n",
      "100\n",
      "\n",
      "\n"
     ]
    }
   ],
   "source": [
    "destinations = ['Gulf Shores', 'Florida', 'Mountains', 'New York', 'California']\n",
    "cost = [100,500,200,600,700]\n",
    "for i in range(4,-1,-1):\n",
    "    print(destinations[i])\n",
    "print('\\n')\n",
    "destinations.reverse()\n",
    "print(destinations)\n",
    "destinations.reverse()\n",
    "print(destinations)\n",
    "print('\\n')\n",
    "for i in range(4,-1,-1):\n",
    "    print(destinations[i])\n",
    "    print(cost[i])\n",
    "    print('\\n')\n",
    "    "
   ]
  },
  {
   "cell_type": "markdown",
   "id": "af41d9f4",
   "metadata": {},
   "source": [
    "**4-13: Buffet:** A buffet-style restaurant offers only five basic foods. Think of five simple foods and store them in a tuple. \n",
    " * Use a `for` loop to print each food the restaurant offers\n",
    " * The restaurant changes its menu, replacing two of the items with different foods. Add a line that rewrites the tuple, and then use a `for` loop to print each of the items on the revised menu.\n",
    " * Try to modify one of the items without re-writing the tuple, and make sure that Python rejects the change\n"
   ]
  },
  {
   "cell_type": "code",
   "execution_count": 78,
   "id": "861dadf3",
   "metadata": {},
   "outputs": [
    {
     "name": "stdout",
     "output_type": "stream",
     "text": [
      "sandwich\n",
      "burger\n",
      "chicken\n",
      "fries\n",
      "fruit\n",
      "\n",
      "\n",
      "sandwich\n",
      "shrimp\n",
      "steak\n",
      "fries\n",
      "fruit\n"
     ]
    },
    {
     "ename": "TypeError",
     "evalue": "'tuple' object does not support item assignment",
     "output_type": "error",
     "traceback": [
      "\u001b[1;31m---------------------------------------------------------------------------\u001b[0m",
      "\u001b[1;31mTypeError\u001b[0m                                 Traceback (most recent call last)",
      "Cell \u001b[1;32mIn[78], line 8\u001b[0m\n\u001b[0;32m      6\u001b[0m \u001b[38;5;28;01mfor\u001b[39;00m j \u001b[38;5;129;01min\u001b[39;00m \u001b[38;5;28mrange\u001b[39m(\u001b[38;5;241m0\u001b[39m,\u001b[38;5;241m5\u001b[39m):\n\u001b[0;32m      7\u001b[0m     \u001b[38;5;28mprint\u001b[39m(offered[j])\n\u001b[1;32m----> 8\u001b[0m offered[\u001b[38;5;241m3\u001b[39m] \u001b[38;5;241m=\u001b[39m \u001b[38;5;124m'\u001b[39m\u001b[38;5;124mturkey\u001b[39m\u001b[38;5;124m'\u001b[39m\n",
      "\u001b[1;31mTypeError\u001b[0m: 'tuple' object does not support item assignment"
     ]
    }
   ],
   "source": [
    "offered = ('sandwich', 'burger', 'chicken', 'fries', 'fruit')\n",
    "for i in range(0,5):\n",
    "    print(offered[i])\n",
    "print('\\n')\n",
    "offered = ('sandwich', 'shrimp', 'steak', 'fries', 'fruit')\n",
    "for j in range(0,5):\n",
    "    print(offered[j])\n",
    "offered[3] = 'turkey'"
   ]
  },
  {
   "cell_type": "markdown",
   "id": "4cda7375",
   "metadata": {},
   "source": [
    "**4-14. PEP 8:** Look through the original PEP 8 style guide at [https://python.org/dev/peps/pep-0003/]. You won't use much of it now, but it might be interesting to skim through it."
   ]
  }
 ],
 "metadata": {
  "kernelspec": {
   "display_name": "Python 3 (ipykernel)",
   "language": "python",
   "name": "python3"
  },
  "language_info": {
   "codemirror_mode": {
    "name": "ipython",
    "version": 3
   },
   "file_extension": ".py",
   "mimetype": "text/x-python",
   "name": "python",
   "nbconvert_exporter": "python",
   "pygments_lexer": "ipython3",
   "version": "3.11.4"
  }
 },
 "nbformat": 4,
 "nbformat_minor": 5
}
