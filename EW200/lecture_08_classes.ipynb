{
 "cells": [
  {
   "cell_type": "markdown",
   "id": "874397ba",
   "metadata": {},
   "source": [
    "<img src=\"https://www.usna.edu/WRC/_files/WRClogos/WRCE-logo-combined-01-crop.png\" width=\"200px\">\n",
    "\n",
    "# Classes (Chapter 9)"
   ]
  },
  {
   "cell_type": "markdown",
   "id": "aeeb762b",
   "metadata": {},
   "source": [
    "Object-oriented programming is one of the most effective approaches to writing software. In object-oriented programming you write *classes* that represent real-world things and situations, and you create *objects* based on these classes. "
   ]
  },
  {
   "cell_type": "code",
   "execution_count": 12,
   "id": "4acd41b5",
   "metadata": {},
   "outputs": [],
   "source": [
    "class Dog:\n",
    "    \"\"\"A simple attempt to model a dog.\"\"\"  \n",
    "  \n",
    "    def __init__(self, name, age):\n",
    "        \"\"\"Initialize name and age attributes.\"\"\"\n",
    "        self.name = name\n",
    "        self.age = age\n",
    "        \n",
    "    def sit(self):\n",
    "        \"\"\"Simulate a dog sitting in response to a command.\"\"\"\n",
    "        print(f\"{self.name} is now sitting.\")\n",
    "\n",
    "    def roll_over(self):\n",
    "        \"\"\"Simulate rolling over in response to a command.\"\"\"\n",
    "        print(f\"{self.name} rolled over!\")\n"
   ]
  },
  {
   "cell_type": "markdown",
   "id": "0591d0c2",
   "metadata": {},
   "source": [
    "Create two instances of the `Dog` class. These are called *instances* or *objects*."
   ]
  },
  {
   "cell_type": "code",
   "execution_count": 13,
   "id": "8d6c738b",
   "metadata": {},
   "outputs": [],
   "source": [
    "my_dog = Dog('Willie', 6)\n",
    "your_dog = Dog('Lucy', 3)"
   ]
  },
  {
   "cell_type": "markdown",
   "id": "93ade090",
   "metadata": {},
   "source": [
    "Accessing attributes and calling methods."
   ]
  },
  {
   "cell_type": "code",
   "execution_count": 14,
   "id": "4e328087",
   "metadata": {},
   "outputs": [
    {
     "name": "stdout",
     "output_type": "stream",
     "text": [
      "My dog's name is Willie.\n",
      "My dog is 6 years old.\n",
      "Willie is now sitting.\n",
      "\n",
      "Your dog's name is Lucy.\n",
      "Your dog is 3 years old.\n",
      "Lucy is now sitting.\n"
     ]
    }
   ],
   "source": [
    "print(f\"My dog's name is {my_dog.name}.\")\n",
    "print(f\"My dog is {my_dog.age} years old.\")\n",
    "my_dog.sit()\n",
    "\n",
    "print(f\"\\nYour dog's name is {your_dog.name}.\")\n",
    "print(f\"Your dog is {your_dog.age} years old.\")\n",
    "your_dog.sit()"
   ]
  },
  {
   "cell_type": "markdown",
   "id": "29618bfa",
   "metadata": {},
   "source": [
    "### Working with Classes and Instances"
   ]
  },
  {
   "cell_type": "code",
   "execution_count": 13,
   "id": "115ead70",
   "metadata": {},
   "outputs": [],
   "source": [
    "\"\"\"A class that can be used to represent a car.\"\"\"\n",
    "\n",
    "class Car():\n",
    "    \"\"\"A simple attempt to represent a car.\"\"\"\n",
    "\n",
    "    def __init__(self, manufacturer, model, year):\n",
    "        \"\"\"Initialize attributes to describe a car.\"\"\"\n",
    "        self.manufacturer = manufacturer\n",
    "        self.model = model\n",
    "        self.year = year\n",
    "        self.odometer_reading = 0\n",
    "        \n",
    "    def get_descriptive_name(self):\n",
    "        \"\"\"Return a neatly formatted descriptive name.\"\"\"\n",
    "        long_name = str(self.year) + ' ' + self.manufacturer + ' ' + self.model\n",
    "        return long_name.title()\n",
    "    \n",
    "    def read_odometer(self):\n",
    "        \"\"\"Print a statement showing the car's mileage.\"\"\"\n",
    "        print(\"This car has \" + str(self.odometer_reading) + \" miles on it.\")\n",
    "        \n",
    "    def update_odometer(self, mileage):\n",
    "        \"\"\"\n",
    "        Set the odometer reading to the given value.\n",
    "        Reject the change if it attempts to roll the odometer back.\n",
    "        \"\"\"\n",
    "        if mileage >= self.odometer_reading:\n",
    "            self.odometer_reading = mileage\n",
    "        else:\n",
    "            print(\"You can't roll back an odometer!\")\n",
    "    \n",
    "    def increment_odometer(self, miles):\n",
    "        \"\"\"Add the given amount to the odometer reading.\"\"\"\n",
    "        self.odometer_reading += miles"
   ]
  },
  {
   "cell_type": "code",
   "execution_count": 17,
   "id": "a2a6a140",
   "metadata": {},
   "outputs": [
    {
     "name": "stdout",
     "output_type": "stream",
     "text": [
      "2019 Audi A4\n",
      "This car has 0 miles on it.\n",
      "<class '__main__.Car'>\n"
     ]
    }
   ],
   "source": [
    "# create a new car, odometer receives a default value\n",
    "my_new_car = Car('audi', 'a4', 2019)\n",
    "print(my_new_car.get_descriptive_name())\n",
    "my_new_car.read_odometer()\n",
    "print(type(my_new_car))"
   ]
  },
  {
   "cell_type": "code",
   "execution_count": 18,
   "id": "3dcbf612",
   "metadata": {},
   "outputs": [
    {
     "name": "stdout",
     "output_type": "stream",
     "text": [
      "This car has 23 miles on it.\n"
     ]
    }
   ],
   "source": [
    "# modifying attribute values\n",
    "my_new_car.odometer_reading = 23\n",
    "my_new_car.read_odometer()"
   ]
  },
  {
   "cell_type": "code",
   "execution_count": 5,
   "id": "0d7616ae",
   "metadata": {},
   "outputs": [
    {
     "name": "stdout",
     "output_type": "stream",
     "text": [
      "This car has 56 miles on it.\n",
      "You can't roll back an odometer!\n"
     ]
    }
   ],
   "source": [
    "# modifying attribute directly with a method\n",
    "my_new_car.update_odometer(56)\n",
    "my_new_car.read_odometer()\n",
    "# this allows custom logic to validate the attribute value\n",
    "my_new_car.update_odometer(10)"
   ]
  },
  {
   "cell_type": "code",
   "execution_count": 19,
   "id": "e8619a6c",
   "metadata": {},
   "outputs": [
    {
     "name": "stdout",
     "output_type": "stream",
     "text": [
      "This car has 43 miles on it.\n"
     ]
    }
   ],
   "source": [
    "# modifying attribute indirectly with a method\n",
    "my_new_car.increment_odometer(20)\n",
    "my_new_car.read_odometer()"
   ]
  },
  {
   "cell_type": "markdown",
   "id": "50d0977c",
   "metadata": {},
   "source": [
    "### Inheritance"
   ]
  },
  {
   "cell_type": "markdown",
   "id": "2f4637c3",
   "metadata": {},
   "source": [
    "`ElectricCar` inherts all methods and attributes from `Car`"
   ]
  },
  {
   "cell_type": "code",
   "execution_count": 20,
   "id": "113ddc09",
   "metadata": {},
   "outputs": [],
   "source": [
    "class ElectricCar(Car):\n",
    "    \"\"\"Models aspects of a car, specific to electric vehicles.\"\"\"\n",
    "\n",
    "    def __init__(self, manufacturer, model, year):\n",
    "        \"\"\"Initialize attributes of the parent class.\"\"\"\n",
    "        super().__init__(manufacturer, model, year)\n"
   ]
  },
  {
   "cell_type": "code",
   "execution_count": 21,
   "id": "30daac76",
   "metadata": {},
   "outputs": [
    {
     "name": "stdout",
     "output_type": "stream",
     "text": [
      "2019 Tesla Model S\n"
     ]
    }
   ],
   "source": [
    "my_tesla = ElectricCar('tesla','model s',2019)\n",
    "print(my_tesla.get_descriptive_name()) # inherited from Car"
   ]
  },
  {
   "cell_type": "markdown",
   "id": "76f53523",
   "metadata": {},
   "source": [
    "New `ElectricCar` class that has a ``battery_size`` attribute and associated method ``describe_battery()``"
   ]
  },
  {
   "cell_type": "code",
   "execution_count": 17,
   "id": "02f0ae2f",
   "metadata": {},
   "outputs": [],
   "source": [
    "class ElectricCar(Car):\n",
    "    \"\"\"Models aspects of a car, specific to electric vehicles.\"\"\"\n",
    "\n",
    "    def __init__(self, manufacturer, model, year):\n",
    "        \"\"\"\n",
    "        Initialize attributes of the parent class.\n",
    "        Then initialize attributes specific to an electric car.\n",
    "        \"\"\"\n",
    "        super().__init__(manufacturer, model, year)\n",
    "        self.battery_size = 75\n",
    "        \n",
    "    def describe_battery(self):\n",
    "        \"\"\"Print a statement describing the battery size.\"\"\"\n",
    "        print(f\"This car has a {self.battery_size}-kWh battery.\")"
   ]
  },
  {
   "cell_type": "code",
   "execution_count": 19,
   "id": "e92985f5",
   "metadata": {},
   "outputs": [
    {
     "data": {
      "text/plain": [
       "'2019 Tesla Model S'"
      ]
     },
     "execution_count": 19,
     "metadata": {},
     "output_type": "execute_result"
    }
   ],
   "source": [
    "my_tesla = ElectricCar('tesla','model s',2019)\n",
    "\n",
    "\n",
    "my_tesla.get_descriptive_name()\n",
    "\n",
    "#print(my_tesla.get_descriptive_name()) # inherited from Car\n",
    "#my_tesla.describe_battery() # specific to Electric Cars\n",
    "\n",
    "#my_toyota = Car('toyota','corolla',2007)\n",
    "#my_toyota.describe_battery() # does not work, not an ElectricCar!"
   ]
  },
  {
   "cell_type": "markdown",
   "id": "ce0c1c4c",
   "metadata": {},
   "source": [
    "Overriding methods in a child class"
   ]
  },
  {
   "cell_type": "code",
   "execution_count": 13,
   "id": "d640f729",
   "metadata": {},
   "outputs": [
    {
     "ename": "NameError",
     "evalue": "name 'Car' is not defined",
     "output_type": "error",
     "traceback": [
      "\u001b[1;31m---------------------------------------------------------------------------\u001b[0m",
      "\u001b[1;31mNameError\u001b[0m                                 Traceback (most recent call last)",
      "Cell \u001b[1;32mIn[13], line 1\u001b[0m\n\u001b[1;32m----> 1\u001b[0m \u001b[38;5;28;01mclass\u001b[39;00m \u001b[38;5;21;01mElectricCar\u001b[39;00m(Car):\n\u001b[0;32m      2\u001b[0m \u001b[38;5;250m    \u001b[39m\u001b[38;5;124;03m\"\"\"Models aspects of a car, specific to electric vehicles.\"\"\"\u001b[39;00m\n\u001b[0;32m      4\u001b[0m     \u001b[38;5;28;01mdef\u001b[39;00m \u001b[38;5;21m__init__\u001b[39m(\u001b[38;5;28mself\u001b[39m, manufacturer, model, year):\n",
      "\u001b[1;31mNameError\u001b[0m: name 'Car' is not defined"
     ]
    }
   ],
   "source": [
    "class ElectricCar(Car):\n",
    "    \"\"\"Models aspects of a car, specific to electric vehicles.\"\"\"\n",
    "\n",
    "    def __init__(self, manufacturer, model, year):\n",
    "        \"\"\"\n",
    "        Initialize attributes of the parent class.\n",
    "        Then initialize attributes specific to an electric car.\n",
    "        \"\"\"\n",
    "        super().__init__(manufacturer, model, year)\n",
    "        self.battery_size = 75\n",
    "        \n",
    "    def describe_battery(self):\n",
    "        \"\"\"Print a statement describing the battery size.\"\"\"\n",
    "        print(f\"This car has a {self.battery_size}-kWh battery.\")\n",
    "        \n",
    "    def get_descriptive_name(self): # overrides parent method!\n",
    "        \"\"\"Return a neatly formatted descriptive name.\"\"\"\n",
    "        long_name = str(self.year) + ' ' + self.manufacturer + ' ' + self.model + ' [Electric!]'\n",
    "        return long_name.title()"
   ]
  },
  {
   "cell_type": "code",
   "execution_count": 27,
   "id": "b4fc5176",
   "metadata": {},
   "outputs": [
    {
     "name": "stdout",
     "output_type": "stream",
     "text": [
      "2019 Tesla Model S [Electric!]\n",
      "2007 Toyota Corolla\n"
     ]
    }
   ],
   "source": [
    "my_tesla = ElectricCar('tesla','model s',2019)\n",
    "print(my_tesla.get_descriptive_name()) # specific to ElectricCar\n",
    "\n",
    "print(my_toyota.get_descriptive_name()) # generic Car method"
   ]
  },
  {
   "cell_type": "markdown",
   "id": "0003aa09",
   "metadata": {},
   "source": [
    "### Modeling Real World Objects\n",
    "Deciding what classes to make and whether to use inheritance can be complicated. There is often no single right answer, it is up to the programmer to figure out what works best."
   ]
  },
  {
   "cell_type": "code",
   "execution_count": 28,
   "id": "f4af74d9",
   "metadata": {},
   "outputs": [],
   "source": [
    "class Battery():\n",
    "    \"\"\"A simple attempt to model a battery for an electric car.\"\"\"\n",
    "\n",
    "    def __init__(self, battery_size=60):\n",
    "        \"\"\"Initialize the batteery's attributes.\"\"\"\n",
    "        self.battery_size = battery_size\n",
    "\n",
    "    def describe_battery(self):\n",
    "        \"\"\"Print a statement describing the battery size.\"\"\"\n",
    "        print(\"This car has a \" + str(self.battery_size) + \"-kWh battery.\")  \n",
    "        \n",
    "    def get_range(self):\n",
    "        \"\"\"Print a statement about the range this battery provides.\"\"\"\n",
    "        if self.battery_size == 60:\n",
    "            range = 140\n",
    "        elif self.battery_size == 85:\n",
    "            range = 185\n",
    "            \n",
    "        message = \"This car can go approximately \" + str(range)\n",
    "        message += \" miles on a full charge.\"\n",
    "        print(message)"
   ]
  },
  {
   "cell_type": "markdown",
   "id": "0a647b2a",
   "metadata": {},
   "source": [
    "A new `ElectricCar` class that uses `Battery` to track aspects of the car's battery"
   ]
  },
  {
   "cell_type": "code",
   "execution_count": 29,
   "id": "951a66ce",
   "metadata": {},
   "outputs": [],
   "source": [
    "class ElectricCar(Car):\n",
    "    \"\"\"Models aspects of a car, specific to electric vehicles.\"\"\"\n",
    "\n",
    "    def __init__(self, manufacturer, model, year):\n",
    "        \"\"\"\n",
    "        Initialize attributes of the parent class.\n",
    "        Then initialize attributes specific to an electric car.\n",
    "        \"\"\"\n",
    "        super().__init__(manufacturer, model, year)\n",
    "        self.battery = Battery()"
   ]
  },
  {
   "cell_type": "code",
   "execution_count": 30,
   "id": "16d9f6e4",
   "metadata": {},
   "outputs": [
    {
     "name": "stdout",
     "output_type": "stream",
     "text": [
      "This car has a 60-kWh battery.\n",
      "This car can go approximately 140 miles on a full charge.\n"
     ]
    }
   ],
   "source": [
    "my_tesla = ElectricCar('tesla','model s',2019)\n",
    "my_tesla.battery.describe_battery() # my_tesla has a battery which has the method describe_battery()\n",
    "\n",
    "my_tesla.battery.get_range()"
   ]
  },
  {
   "cell_type": "markdown",
   "id": "309acf01",
   "metadata": {},
   "source": [
    "### Importing Classes"
   ]
  },
  {
   "cell_type": "code",
   "execution_count": 31,
   "id": "2cd36430",
   "metadata": {},
   "outputs": [
    {
     "ename": "ModuleNotFoundError",
     "evalue": "No module named 'car'",
     "output_type": "error",
     "traceback": [
      "\u001b[1;31m---------------------------------------------------------------------------\u001b[0m",
      "\u001b[1;31mModuleNotFoundError\u001b[0m                       Traceback (most recent call last)",
      "Cell \u001b[1;32mIn[31], line 1\u001b[0m\n\u001b[1;32m----> 1\u001b[0m \u001b[38;5;28;01mimport\u001b[39;00m \u001b[38;5;21;01mcar\u001b[39;00m\n\u001b[0;32m      2\u001b[0m \u001b[38;5;28;01mimport\u001b[39;00m \u001b[38;5;21;01melectric_car\u001b[39;00m\n\u001b[0;32m      4\u001b[0m \u001b[38;5;66;03m# use the Car class defined in car.py\u001b[39;00m\n",
      "\u001b[1;31mModuleNotFoundError\u001b[0m: No module named 'car'"
     ]
    }
   ],
   "source": [
    "import car\n",
    "import electric_car\n",
    "\n",
    "# use the Car class defined in car.py\n",
    "my_beetle = car.Car('volkswagen', 'beetle', 2015)\n",
    "print(my_beetle.get_descriptive_name())\n",
    "\n",
    "# use the ElectricCar class defined in electric_car.py\n",
    "my_tesla = electric_car.ElectricCar('tesla', 'roadster', 2015)\n",
    "print(my_tesla.get_descriptive_name())"
   ]
  },
  {
   "cell_type": "markdown",
   "id": "d6e28e90",
   "metadata": {},
   "source": [
    "### The Python Standard Library"
   ]
  },
  {
   "cell_type": "code",
   "execution_count": 40,
   "id": "3c029b1c",
   "metadata": {},
   "outputs": [
    {
     "name": "stdout",
     "output_type": "stream",
     "text": [
      "You rolled a 4\n",
      "Your service selection is: subs\n"
     ]
    }
   ],
   "source": [
    "# example usage of a module from the standard library\n",
    "# random provides tools for generating random data\n",
    "\n",
    "from random import randint # <-- we didn't write this file, it comes with Python\n",
    "print(f\"You rolled a {randint(1,6)}\")\n",
    "\n",
    "from random import choice\n",
    "communities = ['subs','pilot','cyber','swo','marines','army']\n",
    "# feeling lucky?\n",
    "print(f\"Your service selection is: {choice(communities)}\")"
   ]
  },
  {
   "cell_type": "markdown",
   "id": "20e482ab",
   "metadata": {},
   "source": [
    "-----\n",
    "\n",
    "## Homework Problems"
   ]
  },
  {
   "cell_type": "markdown",
   "id": "a2eeddc0",
   "metadata": {},
   "source": [
    "**9-1. Restaurant:** Make a  class called `Restaurant`. The `__init__()` method for `Restaurant` should store two attributes: a `restaurant_name` and a `cuisine_type`. Make a method called `describe_restaurant()` that prints these two pieces of information, and a method called `open_restaurant()` that prints a message indicating that the restaurant is open.\n",
    "\n",
    "Make an instance called `restaurant` from your class. Print the two attributes individually, and then call both methods."
   ]
  },
  {
   "cell_type": "code",
   "execution_count": 20,
   "id": "36700fb3",
   "metadata": {},
   "outputs": [
    {
     "name": "stdout",
     "output_type": "stream",
     "text": [
      "chiptole\n",
      "burrito\n",
      "It got 4 out of 10.\n",
      "chiptole is open!\n"
     ]
    }
   ],
   "source": [
    "class Restaurant():\n",
    "    \n",
    "    def __init__(self, restaurant_name, cuisine_type):\n",
    "        self.name = restaurant_name\n",
    "        self.food = cuisine_type\n",
    "    \n",
    "    def describe_restaurant(self, rating):\n",
    "        print(self.name)\n",
    "        print(self.food)\n",
    "        print(f'It got {rating} out of 10.')\n",
    "    \n",
    "    def open_restaurant(self):\n",
    "        print(f'{self.name} is open!')\n",
    "\n",
    "# -----------------------------------------------------------------------\n",
    "\n",
    "# Creating an instance of Restaurant.\n",
    "first = Restaurant('chiptole','burrito')\n",
    "\n",
    "first.describe_restaurant(4)\n",
    "first.open_restaurant()\n",
    "\n",
    "\n",
    "#first.describe_restaurant()\n",
    "#first.open_restaurant()\n",
    "#print(first.Restaurant())\n",
    "\n"
   ]
  },
  {
   "cell_type": "markdown",
   "id": "528eac87",
   "metadata": {},
   "source": [
    "**9-2. Three Restaurants:** Start with your class from above. Create three different instances of the class, and call `describe_restaurant()` for each instance."
   ]
  },
  {
   "cell_type": "code",
   "execution_count": 23,
   "id": "4537675c",
   "metadata": {},
   "outputs": [
    {
     "name": "stdout",
     "output_type": "stream",
     "text": [
      "chickfila\n",
      "chicken\n",
      "It got 8 out of 10.\n",
      "fiveguys\n",
      "burgers\n",
      "It got 8 out of 10.\n",
      "papajohns\n",
      "pizza\n",
      "It got 7 out of 10.\n"
     ]
    }
   ],
   "source": [
    "class Restaurant():\n",
    "    \n",
    "    def __init__(self, restaurant_name, cuisine_type):\n",
    "        self.name = restaurant_name\n",
    "        self.food = cuisine_type\n",
    "    \n",
    "    def describe_restaurant(self, rating):\n",
    "        print(self.name)\n",
    "        print(self.food)\n",
    "        print(f'It got {rating} out of 10.')\n",
    "    \n",
    "    def open_restaurant(self):\n",
    "        print(f'{self.name} is open!')\n",
    "\n",
    "one = Restaurant('chickfila','chicken')\n",
    "two = Restaurant('fiveguys','burgers')\n",
    "three = Restaurant('papajohns', 'pizza')\n",
    "\n",
    "one.describe_restaurant('8')\n",
    "two.describe_restaurant('8')\n",
    "three.describe_restaurant('7')"
   ]
  },
  {
   "cell_type": "markdown",
   "id": "306d34e2",
   "metadata": {},
   "source": [
    "**9-3. Users:** Make a class called `User`. Create two attributes called `first_name` and `last_name`, and then create at least three other attributes that are typically stored in a user profile. Make a method called `describe_user()` that prints a summary of the user's information. Make another method called `greet_user()` that prints a personalized greeting to the user.\n",
    "\n",
    "Create three instances representing different users, and call both methods for each user."
   ]
  },
  {
   "cell_type": "code",
   "execution_count": 8,
   "id": "3d0f20f2",
   "metadata": {},
   "outputs": [
    {
     "name": "stdout",
     "output_type": "stream",
     "text": [
      "summary: Erin, Kincade, 20, ATL, USNA\n",
      "Hello Erin Kincade!\n",
      "summary: Josh, Kincade, 21, ATL, KSU\n",
      "Hello Josh Kincade!\n",
      "summary: Avery, Williams, 21, ATL, GT\n",
      "Hello Avery Williams!\n"
     ]
    }
   ],
   "source": [
    "class User():\n",
    "    def __init__(self,first_name,last_name,age,city,school):\n",
    "        self.first_name = first_name\n",
    "        self.last_name = last_name\n",
    "        self.age = age\n",
    "        self.city = city\n",
    "        self.school = school\n",
    "    def describe_user(self):\n",
    "        print(f'summary: {self.first_name}, {self.last_name}, {self.age}, {self.city}, {self.school}')\n",
    "    def greet_user(self):\n",
    "        print(f'Hello {self.first_name} {self.last_name}!')\n",
    "\n",
    "user_one = User('Erin','Kincade','20','ATL','USNA')\n",
    "user_two = User('Josh','Kincade','21','ATL','KSU')\n",
    "user_three = User('Avery','Williams','21','ATL','GT')\n",
    "\n",
    "user_one.describe_user()\n",
    "user_one.greet_user()\n",
    "\n",
    "user_two.describe_user()\n",
    "user_two.greet_user()\n",
    "\n",
    "user_three.describe_user()\n",
    "user_three.greet_user()    "
   ]
  },
  {
   "cell_type": "markdown",
   "id": "e542940c",
   "metadata": {},
   "source": [
    "**9-4. Number Served:** Start with your program from 9-1. Add an attribute called `number_served` with a default value of 0. Create an instance called `restaurant` from this class. Print the number of customers the restaurant has served, and then change this value and print it again.\n",
    "\n",
    "Add a method called `set_number_served()` that lets you set the number of customers that have been served. Call this method with a new number and print the value again.\n",
    "\n",
    "Add a method called `increment_number_served()` that lets you increment the number of customers who've been served. Call this method with any number you like that could represent how many customers were served in, say, a day of business."
   ]
  },
  {
   "cell_type": "code",
   "execution_count": 1,
   "id": "a8e910bd",
   "metadata": {},
   "outputs": [
    {
     "name": "stdout",
     "output_type": "stream",
     "text": [
      "5 people have been served\n",
      "6 people have been served!\n",
      "8 total people have been served!!\n"
     ]
    }
   ],
   "source": [
    "class Restaurant():\n",
    "    \n",
    "    def __init__(self, restaurant_name, cuisine_type):\n",
    "        self.name = restaurant_name\n",
    "        self.food = cuisine_type\n",
    "    \n",
    "    def describe_restaurant(self, rating):\n",
    "        print(self.name)\n",
    "        print(self.food)\n",
    "        print(f'It got {rating} out of 10.')\n",
    "    \n",
    "    def open_restaurant(self):\n",
    "        print(f'{self.name} is open!')\n",
    "    \n",
    "    def number_served(self, num = 0):\n",
    "        self.num = num\n",
    "        print(f'{self.num} people have been served')\n",
    "    def set_number_served(self, newNum):\n",
    "        self.newNum = newNum\n",
    "        print(f'{self.newNum} people have been served!')\n",
    "    def increment_number_served(self, customers):\n",
    "        self.customers = customers\n",
    "        total = self.newNum + self.customers\n",
    "        print(f'{total} total people have been served!!')\n",
    "    \n",
    "\n",
    "restaurant = Restaurant('chiptole','burrito')\n",
    "restaurant.number_served(5)\n",
    "restaurant.set_number_served(6)\n",
    "restaurant.increment_number_served(2)"
   ]
  },
  {
   "cell_type": "markdown",
   "id": "ce29786e",
   "metadata": {},
   "source": [
    "**9-5. Login Attempts:** Add an attribute called `login_attempts` to your `User` class from 9-3. Write a method called `increment_login_attempts()` that increments the value of `login_attempts` by 1. Write another method called `reset_login_attempts()` that resets the value of `login_attempts` to 0.\n",
    "\n",
    "Make an instance of the `User` class and call `increment_login_attempts()` several times. Print the value of `login_attempts` to make sure it was incremented propertly, and then call `reset_login_attempts()`. Print `login_attempts` again to make sure it was reset to 0."
   ]
  },
  {
   "cell_type": "code",
   "execution_count": 14,
   "id": "532334ce",
   "metadata": {},
   "outputs": [
    {
     "name": "stdout",
     "output_type": "stream",
     "text": [
      "number of login attempts is 1\n",
      "number of login attempts is 2\n",
      "number of login attempts is 3\n",
      "number of login attempts is 4\n",
      "number of login attempts is 5\n",
      "number of login attempts is None\n",
      "number of login attempts reset to 0\n",
      "number of login attempts reset to 0\n",
      "number of login attempts is None\n"
     ]
    }
   ],
   "source": [
    "class User():\n",
    "    def __init__(self,first_name,last_name,age,city,school):\n",
    "        self.first_name = first_name\n",
    "        self.last_name = last_name\n",
    "        self.age = age\n",
    "        self.city = city\n",
    "        self.school = school\n",
    "    def describe_user(self):\n",
    "        print(f'summary: {self.first_name}, {self.last_name}, {self.age}, {self.city}, {self.school}')\n",
    "    def greet_user(self):\n",
    "        print(f'Hello {self.first_name} {self.last_name}!')\n",
    "    def login_attempts(self, number_of_attempts):\n",
    "        self.number_of_attempts = number_of_attempts\n",
    "        print(f'number of login attempts is {self.number_of_attempts}')\n",
    "    def increment_login_attempts(self):\n",
    "        self.number_of_attempts = self.number_of_attempts + 1\n",
    "        print(f'number of login attempts is {self.number_of_attempts}')\n",
    "    def reset_login_attempts(self):\n",
    "        self.number_of_attempts = 0\n",
    "        print(f'number of login attempts reset to {self.number_of_attempts}')\n",
    "\n",
    "user_one = User('Erin','Kincade','20','ATL','USNA')\n",
    "user_one.login_attempts(1)\n",
    "user_one.increment_login_attempts()\n",
    "user_one.increment_login_attempts()\n",
    "user_one.increment_login_attempts()\n",
    "user_one.login_attempts(user_one.increment_login_attempts())\n",
    "user_one.reset_login_attempts()\n",
    "user_one.login_attempts(user_one.reset_login_attempts())\n"
   ]
  },
  {
   "cell_type": "markdown",
   "id": "d7b5691c",
   "metadata": {},
   "source": [
    "**9-6. Ice Cream Stand:** An ice cream stand is a specific kind of restaurant. Write a class caled `IceCreamStand` that inherits from the `Restaurant` class you wrote in 9-1 or 9-4. Either version of the clas will work; just pick the one you like better. Add an attribute called `flavors` that stores a list of ice cream flavors. Write a method that displays these flavors. Create an instance of `IceCreamStand`, and call this method."
   ]
  },
  {
   "cell_type": "code",
   "execution_count": 7,
   "id": "5514cfea",
   "metadata": {},
   "outputs": [
    {
     "name": "stdout",
     "output_type": "stream",
     "text": [
      "['chocolate', 'vanilla', 'strawberry']\n"
     ]
    }
   ],
   "source": [
    "class IceCreamStand(Restaurant):\n",
    "    \n",
    "    def __init__(self, restaurant_name, cuisine_type):\n",
    "        super().__init__(restaurant_name, cuisine_type)\n",
    "    \n",
    "    def flavors(self, list_flavors):\n",
    "        self.list_flavors = list_flavors\n",
    "        print(self.list_flavors)\n",
    "        \n",
    "flav_list = IceCreamStand('dairy queen','ice cream')\n",
    "flav_list.flavors(['chocolate','vanilla','strawberry'])\n",
    "        \n",
    "    \n",
    "    \n",
    "    \n",
    "\n",
    "    \n",
    "       \n",
    "        "
   ]
  },
  {
   "cell_type": "markdown",
   "id": "c4dec239",
   "metadata": {},
   "source": [
    "**9-7. Admin:** An administrator is a special kind of user. Write a class called `Admin` that inherits from the `User` class you wrote in 9-3 or 9-5. Add an attribute, `privileges`, that stores a list of strings like *\"can add post\"*, *\"can delete post\"*, *\"can ban user\"*, and so on. Write a method called `show_privileges()` that lists the administrator's set of privileges. Create an instance of `Admin`, and call your method."
   ]
  },
  {
   "cell_type": "code",
   "execution_count": 11,
   "id": "c9d6db89",
   "metadata": {},
   "outputs": [
    {
     "name": "stdout",
     "output_type": "stream",
     "text": [
      "This user can add post\n",
      "This user can delete post\n",
      "This user can ban user\n",
      "This user may only add post\n"
     ]
    }
   ],
   "source": [
    "class Admin(User):\n",
    "    def  __init__(self,first_name,last_name,age,city,school):\n",
    "        super().__init__(first_name,last_name,age,city,school)\n",
    "    def show_privileges(self, priv):\n",
    "        self.priv = priv\n",
    "        if self.priv == 'admin':\n",
    "            print('This user can add post')\n",
    "            print('This user can delete post')\n",
    "            print('This user can ban user')\n",
    "        else:\n",
    "            print('This user may only add post')\n",
    "            \n",
    "one = Admin('Erin','Kincade','20','ATL','USNA')\n",
    "one.show_privileges('admin')\n",
    "\n",
    "two = Admin('Josh','Kincade','21','ATL','KSU')\n",
    "two.show_privileges('user')\n",
    "    "
   ]
  },
  {
   "cell_type": "markdown",
   "id": "cf17d8a3",
   "metadata": {},
   "source": [
    "**9-8. Privileges:** Write a separate `Privileges` class. The class should have one attribute, `privileges`, that stores a list of strings as described in 9-7. Move the `show_privileges()` method to this class. Make a `Privileges` instance as an attribute in the `Admin` class. Create a new instance of `Admin` and use your method to show its privileges."
   ]
  },
  {
   "cell_type": "code",
   "execution_count": null,
   "id": "97a0c1e4",
   "metadata": {},
   "outputs": [],
   "source": [
    "class Privileges():\n",
    "    def __init__(self,privileges):\n",
    "        import show_privileges\n",
    "        "
   ]
  },
  {
   "cell_type": "markdown",
   "id": "1e8dcfd8",
   "metadata": {},
   "source": [
    "**9-9. Battery Upgrade:** Use the final verion of the `electric_car.py` from this lecture. Add a method to the `Battery` class called `upgrade_battery()`. This method should check the battery size and set the capacity to 100 if it isn't already. Make an electric car with a default battery size, call `get_range()` once, and the call `get_range()` a second time after upgrading the battery. You should see an increase in the car's range."
   ]
  },
  {
   "cell_type": "code",
   "execution_count": 15,
   "id": "879119ce",
   "metadata": {},
   "outputs": [
    {
     "name": "stdout",
     "output_type": "stream",
     "text": [
      "This car can go approximately 140 miles on a full charge.\n"
     ]
    },
    {
     "ename": "UnboundLocalError",
     "evalue": "cannot access local variable 'rangec' where it is not associated with a value",
     "output_type": "error",
     "traceback": [
      "\u001b[1;31m---------------------------------------------------------------------------\u001b[0m",
      "\u001b[1;31mUnboundLocalError\u001b[0m                         Traceback (most recent call last)",
      "Cell \u001b[1;32mIn[15], line 51\u001b[0m\n\u001b[0;32m     49\u001b[0m instance\u001b[38;5;241m.\u001b[39mget_range()\n\u001b[0;32m     50\u001b[0m instance\u001b[38;5;241m.\u001b[39mupgrade_battery()\n\u001b[1;32m---> 51\u001b[0m instance\u001b[38;5;241m.\u001b[39mget_range()\n",
      "Cell \u001b[1;32mIn[15], line 39\u001b[0m, in \u001b[0;36mBattery.get_range\u001b[1;34m(self)\u001b[0m\n\u001b[0;32m     36\u001b[0m \u001b[38;5;28;01melif\u001b[39;00m \u001b[38;5;28mself\u001b[39m\u001b[38;5;241m.\u001b[39mbattery_size \u001b[38;5;241m==\u001b[39m \u001b[38;5;241m85\u001b[39m:\n\u001b[0;32m     37\u001b[0m     rangec \u001b[38;5;241m=\u001b[39m \u001b[38;5;241m185\u001b[39m\n\u001b[1;32m---> 39\u001b[0m message \u001b[38;5;241m=\u001b[39m \u001b[38;5;124m\"\u001b[39m\u001b[38;5;124mThis car can go approximately \u001b[39m\u001b[38;5;124m\"\u001b[39m \u001b[38;5;241m+\u001b[39m \u001b[38;5;28mstr\u001b[39m(rangec)\n\u001b[0;32m     40\u001b[0m message \u001b[38;5;241m+\u001b[39m\u001b[38;5;241m=\u001b[39m \u001b[38;5;124m\"\u001b[39m\u001b[38;5;124m miles on a full charge.\u001b[39m\u001b[38;5;124m\"\u001b[39m\n\u001b[0;32m     41\u001b[0m \u001b[38;5;28mprint\u001b[39m(message)\n",
      "\u001b[1;31mUnboundLocalError\u001b[0m: cannot access local variable 'rangec' where it is not associated with a value"
     ]
    }
   ],
   "source": [
    "class ElectricCar(Car):\n",
    "    \"\"\"Models aspects of a car, specific to electric vehicles.\"\"\"\n",
    "\n",
    "    def __init__(self, manufacturer, model, year):\n",
    "        \"\"\"\n",
    "        Initialize attributes of the parent class.\n",
    "        Then initialize attributes specific to an electric car.\n",
    "        \"\"\"\n",
    "        super().__init__(manufacturer, model, year)\n",
    "        self.battery_size = 75\n",
    "        \n",
    "    def describe_battery(self):\n",
    "        \"\"\"Print a statement describing the battery size.\"\"\"\n",
    "        print(f\"This car has a {self.battery_size}-kWh battery.\")\n",
    "        \n",
    "    def get_descriptive_name(self): # overrides parent method!\n",
    "        \"\"\"Return a neatly formatted descriptive name.\"\"\"\n",
    "        long_name = str(self.year) + ' ' + self.manufacturer + ' ' + self.model + ' [Electric!]'\n",
    "        return long_name.title()\n",
    "    \n",
    "class Battery():\n",
    "    \"\"\"A simple attempt to model a battery for an electric car.\"\"\"\n",
    "\n",
    "    def __init__(self, battery_size=60):\n",
    "        \"\"\"Initialize the batteery's attributes.\"\"\"\n",
    "        self.battery_size = battery_size\n",
    "\n",
    "    def describe_battery(self):\n",
    "        \"\"\"Print a statement describing the battery size.\"\"\"\n",
    "        print(\"This car has a \" + str(self.battery_size) + \"-kWh battery.\")  \n",
    "        \n",
    "    def get_range(self):\n",
    "        \"\"\"Print a statement about the range this battery provides.\"\"\"\n",
    "        if self.battery_size == 60:\n",
    "            rangec = 140\n",
    "        elif self.battery_size == 85:\n",
    "            rangec = 185\n",
    "            \n",
    "        message = \"This car can go approximately \" + str(rangec)\n",
    "        message += \" miles on a full charge.\"\n",
    "        print(message)\n",
    "        \n",
    "    def upgrade_battery(self):\n",
    "        if self.battery_size != 100:\n",
    "            self.battery_size = 100\n",
    "        \n",
    "instance = ElectricCar('toyota','camery','2020')\n",
    "instance = Battery()\n",
    "instance.get_range()\n",
    "instance.upgrade_battery()\n",
    "instance.get_range()\n"
   ]
  },
  {
   "cell_type": "markdown",
   "id": "19613a71",
   "metadata": {},
   "source": [
    "**9-10. Imported Restaurant:** Using your latest `Restaurant` class, store it in a module. Import `Restaurant` and make an instance of the class. Then call one of its methods to show that the `import` statement is working properly."
   ]
  },
  {
   "cell_type": "code",
   "execution_count": 16,
   "id": "baffb5cf",
   "metadata": {},
   "outputs": [
    {
     "ename": "ModuleNotFoundError",
     "evalue": "No module named 'restaurant'",
     "output_type": "error",
     "traceback": [
      "\u001b[1;31m---------------------------------------------------------------------------\u001b[0m",
      "\u001b[1;31mModuleNotFoundError\u001b[0m                       Traceback (most recent call last)",
      "Cell \u001b[1;32mIn[16], line 1\u001b[0m\n\u001b[1;32m----> 1\u001b[0m \u001b[38;5;28;01mfrom\u001b[39;00m \u001b[38;5;21;01mrestaurant\u001b[39;00m \u001b[38;5;28;01mimport\u001b[39;00m Restaurant\n\u001b[0;32m      3\u001b[0m channel_club \u001b[38;5;241m=\u001b[39m Restaurant(\u001b[38;5;124m'\u001b[39m\u001b[38;5;124mthe channel club\u001b[39m\u001b[38;5;124m'\u001b[39m, \u001b[38;5;124m'\u001b[39m\u001b[38;5;124msteak and seafood\u001b[39m\u001b[38;5;124m'\u001b[39m)\n\u001b[0;32m      4\u001b[0m channel_club\u001b[38;5;241m.\u001b[39mdescribe_restaurant()\n",
      "\u001b[1;31mModuleNotFoundError\u001b[0m: No module named 'restaurant'"
     ]
    }
   ],
   "source": [
    "from restaurant import Restaurant\n",
    "\n",
    "channel_club = Restaurant('the channel club', 'steak and seafood')\n",
    "channel_club.describe_restaurant()\n",
    "channel_club.open_restaurant()"
   ]
  },
  {
   "cell_type": "markdown",
   "id": "577454fe",
   "metadata": {},
   "source": [
    "**9-11. Imported Admin:** Start with your work form 9-8. Store the classes `User`, `Privileges`, and `Admin` in one module. Import just the `Admin` class and make an instance of it. Then call `show_privileges()` to show that everything is working properly."
   ]
  },
  {
   "cell_type": "code",
   "execution_count": 20,
   "id": "02e3a3ff",
   "metadata": {},
   "outputs": [
    {
     "ename": "AttributeError",
     "evalue": "'Admin' object has no attribute 'show_privileges'",
     "output_type": "error",
     "traceback": [
      "\u001b[1;31m---------------------------------------------------------------------------\u001b[0m",
      "\u001b[1;31mAttributeError\u001b[0m                            Traceback (most recent call last)",
      "Cell \u001b[1;32mIn[20], line 59\u001b[0m\n\u001b[0;32m     56\u001b[0m             \u001b[38;5;28mprint\u001b[39m(\u001b[38;5;124m\"\u001b[39m\u001b[38;5;124m- This user has no privileges.\u001b[39m\u001b[38;5;124m\"\u001b[39m)\n\u001b[0;32m     58\u001b[0m helper \u001b[38;5;241m=\u001b[39m Admin(\u001b[38;5;124m'\u001b[39m\u001b[38;5;124merin\u001b[39m\u001b[38;5;124m'\u001b[39m,\u001b[38;5;124m'\u001b[39m\u001b[38;5;124mkincade\u001b[39m\u001b[38;5;124m'\u001b[39m,\u001b[38;5;124m'\u001b[39m\u001b[38;5;124meak\u001b[39m\u001b[38;5;124m'\u001b[39m,\u001b[38;5;124m'\u001b[39m\u001b[38;5;124mgmail\u001b[39m\u001b[38;5;124m'\u001b[39m,\u001b[38;5;124m'\u001b[39m\u001b[38;5;124mATL\u001b[39m\u001b[38;5;124m'\u001b[39m)\n\u001b[1;32m---> 59\u001b[0m helper\u001b[38;5;241m.\u001b[39mshow_privileges()\n",
      "\u001b[1;31mAttributeError\u001b[0m: 'Admin' object has no attribute 'show_privileges'"
     ]
    }
   ],
   "source": [
    "class User():\n",
    "    \"\"\"Represent a simple user profile.\"\"\"\n",
    "\n",
    "    def __init__(self, first_name, last_name, username, email, location):\n",
    "        \"\"\"Initialize the user.\"\"\"\n",
    "        self.first_name = first_name.title()\n",
    "        self.last_name = last_name.title()\n",
    "        self.username = username\n",
    "        self.email = email\n",
    "        self.location = location.title()\n",
    "        self.login_attempts = 0\n",
    "\n",
    "    def describe_user(self):\n",
    "        \"\"\"Display a summary of the user's information.\"\"\"\n",
    "        print(f\"\\n{self.first_name} {self.last_name}\")\n",
    "        print(f\"  Username: {self.username}\")\n",
    "        print(f\"  Email: {self.email}\")\n",
    "        print(f\"  Location: {self.location}\")\n",
    "\n",
    "    def greet_user(self):\n",
    "        \"\"\"Display a personalized greeting to the user.\"\"\"\n",
    "        print(f\"\\nWelcome back, {self.username}!\")\n",
    "\n",
    "    def increment_login_attempts(self):\n",
    "        \"\"\"Increment the value of login_attempts.\"\"\"\n",
    "        self.login_attempts += 1\n",
    "\n",
    "    def reset_login_attempts(self):\n",
    "        \"\"\"Reset login_attempts to 0.\"\"\"\n",
    "        self.login_attempts = 0\n",
    "\n",
    "\n",
    "class Admin(User):\n",
    "    \"\"\"A user with administrative privileges.\"\"\"\n",
    "\n",
    "    def __init__(self, first_name, last_name, username, email, location):\n",
    "        \"\"\"Initialize the admin.\"\"\"\n",
    "        super().__init__(first_name, last_name, username, email, location)\n",
    "        \n",
    "        # Initialize an empty set of privileges.\n",
    "        self.privileges = Privileges()\n",
    "\n",
    "\n",
    "class Privileges():\n",
    "    \"\"\"A class to store an admin's privileges.\"\"\"\n",
    "\n",
    "    def __init__(self, privileges=[]):\n",
    "        self.privileges = privileges\n",
    "\n",
    "    def show_privileges(self):\n",
    "        print(\"\\nPrivileges:\")\n",
    "        if self.privileges:\n",
    "            for privilege in self.privileges:\n",
    "                print(f\"- {privilege}\")\n",
    "        else:\n",
    "            print(\"- This user has no privileges.\")\n",
    "            \n",
    "helper = Admin('erin','kincade','eak','gmail','ATL')\n",
    "helper.show_privileges()"
   ]
  },
  {
   "cell_type": "markdown",
   "id": "1c5078e8",
   "metadata": {},
   "source": [
    "**9-12. Multiple Modules:** Store the `User` class in one module, and store the `Privileges` and `Admin` classes in a a seperate module. Set up the import statements so that you can create an instance of an `Admin` below. Then call `show_privileges()` to show that everything is working properly."
   ]
  },
  {
   "cell_type": "code",
   "execution_count": 22,
   "id": "6979f937",
   "metadata": {},
   "outputs": [],
   "source": [
    "class User():\n",
    "    \"\"\"Represent a simple user profile.\"\"\"\n",
    "\n",
    "    def __init__(self, first_name, last_name, username, email, location):\n",
    "        \"\"\"Initialize the user.\"\"\"\n",
    "        self.first_name = first_name.title()\n",
    "        self.last_name = last_name.title()\n",
    "        self.username = username\n",
    "        self.email = email\n",
    "        self.location = location.title()\n",
    "        self.login_attempts = 0\n",
    "\n",
    "    def describe_user(self):\n",
    "        \"\"\"Display a summary of the user's information.\"\"\"\n",
    "        print(f\"\\n{self.first_name} {self.last_name}\")\n",
    "        print(f\"  Username: {self.username}\")\n",
    "        print(f\"  Email: {self.email}\")\n",
    "        print(f\"  Location: {self.location}\")\n",
    "\n",
    "    def greet_user(self):\n",
    "        \"\"\"Display a personalized greeting to the user.\"\"\"\n",
    "        print(f\"\\nWelcome back, {self.username}!\")\n",
    "\n",
    "    def increment_login_attempts(self):\n",
    "        \"\"\"Increment the value of login_attempts.\"\"\"\n",
    "        self.login_attempts += 1\n",
    "\n",
    "    def reset_login_attempts(self):\n",
    "        \"\"\"Reset login_attempts to 0.\"\"\"\n",
    "        self.login_attempts = 0"
   ]
  },
  {
   "cell_type": "markdown",
   "id": "66f328be",
   "metadata": {},
   "source": [
    "**9-13. Dice:** Make a class `Die` with one attribute called `sides`, which has a default value of 6. Write a method called `roll_die()` that prints a random number between 1 and the number of sides the die has. Make a 6-sided die and roll it 10 times.\n",
    "\n",
    "Make a 10-sided die and a 20-sided die. Roll each die 10 times."
   ]
  },
  {
   "cell_type": "code",
   "execution_count": 23,
   "id": "1b83f9e3",
   "metadata": {},
   "outputs": [
    {
     "name": "stdout",
     "output_type": "stream",
     "text": [
      "10 rolls of a 6-sided die:\n",
      "[2, 2, 5, 3, 3, 3, 6, 5, 6, 6]\n",
      "\n",
      "10 rolls of a 10-sided die:\n",
      "[4, 2, 4, 10, 1, 1, 8, 10, 7, 5]\n",
      "\n",
      "10 rolls of a 20-sided die:\n",
      "[16, 15, 5, 13, 19, 18, 1, 10, 7, 19]\n"
     ]
    }
   ],
   "source": [
    "from random import randint\n",
    "x = randint(1, 6)\n",
    "\n",
    "class Die():\n",
    "    \"\"\"Represent a die, which can be rolled.\"\"\"\n",
    "\n",
    "    def __init__(self, sides=6):\n",
    "        \"\"\"Initialize the die.\"\"\"\n",
    "        self.sides = sides\n",
    "\n",
    "    def roll_die(self):\n",
    "        \"\"\"Return a number between 1 and the number of sides.\"\"\"\n",
    "        return randint(1, self.sides)\n",
    "\n",
    "# Make a 6-sided die, and show the results of 10 rolls.\n",
    "d6 = Die()\n",
    "\n",
    "results = []\n",
    "for roll_num in range(10):\n",
    "    result = d6.roll_die()\n",
    "    results.append(result)\n",
    "print(\"10 rolls of a 6-sided die:\")\n",
    "print(results)\n",
    "\n",
    "# Make a 10-sided die, and show the results of 10 rolls.\n",
    "d10 = Die(sides=10)\n",
    "\n",
    "results = []\n",
    "for roll_num in range(10):\n",
    "    result = d10.roll_die()\n",
    "    results.append(result)\n",
    "print(\"\\n10 rolls of a 10-sided die:\")\n",
    "print(results)\n",
    "\n",
    "# Make a 20-sided die, and show the results of 10 rolls.\n",
    "d20 = Die(sides=20)\n",
    "\n",
    "results = []\n",
    "for roll_num in range(10):\n",
    "    result = d20.roll_die()\n",
    "    results.append(result)\n",
    "print(\"\\n10 rolls of a 20-sided die:\")\n",
    "print(results)"
   ]
  },
  {
   "cell_type": "markdown",
   "id": "5d122a44",
   "metadata": {},
   "source": [
    "**9-14. Lottery:** Make a list or tuple containing a series of 10 numbers and five letters. Randomly select four numbers or letters from the list and print a message saying that any ticket matching these four numbers or letters wins a prize."
   ]
  },
  {
   "cell_type": "code",
   "execution_count": 24,
   "id": "8fff4f84",
   "metadata": {},
   "outputs": [
    {
     "name": "stdout",
     "output_type": "stream",
     "text": [
      "Let's see what the winning ticket is...\n",
      "  We pulled a e!\n",
      "  We pulled a c!\n",
      "  We pulled a 10!\n",
      "  We pulled a 9!\n"
     ]
    }
   ],
   "source": [
    "from random import choice\n",
    "\n",
    "possibilities = [1, 2, 3, 4, 5, 6, 7, 8, 9, 10, 'a', 'b', 'c', 'd', 'e']\n",
    "\n",
    "winning_ticket = []\n",
    "print(\"Let's see what the winning ticket is...\")\n",
    "\n",
    "# We don't want to repeat winning numbers or letters, so we'll use a\n",
    "#   while loop.\n",
    "while len(winning_ticket) < 4:\n",
    "    pulled_item = choice(possibilities)\n",
    "\n",
    "    # Only add the pulled item to the winning ticket if it hasn't\n",
    "    #   already been pulled.\n",
    "    if pulled_item not in winning_ticket:\n",
    "        print(f\"  We pulled a {pulled_item}!\")\n",
    "        winning_ticket.append(pulled_item)"
   ]
  },
  {
   "cell_type": "markdown",
   "id": "834a88f4",
   "metadata": {},
   "source": [
    "**9-15. Lottery Analysis:** You can use a loop to see how hard it might be to win the kind of lottery you just modeled. Make a list or tuple called `my_ticket`. Write a loop that keeps pulling numbers until your ticket wins. Print a message reporting how many times the loop had to run to give you a winning ticket."
   ]
  },
  {
   "cell_type": "code",
   "execution_count": 25,
   "id": "98011c3d",
   "metadata": {},
   "outputs": [
    {
     "name": "stdout",
     "output_type": "stream",
     "text": [
      "We have a winning ticket!\n",
      "Your ticket: [6, 9, 1, 'c']\n",
      "Winning ticket: ['c', 1, 9, 6]\n",
      "It only took 1400 tries to win!\n"
     ]
    }
   ],
   "source": [
    "from random import choice\n",
    "\n",
    "def get_winning_ticket(possibilities):\n",
    "    \"\"\"Return a winning ticket from a set of possibilities.\"\"\"\n",
    "    winning_ticket = []\n",
    "\n",
    "    # We don't want to repeat winning numbers or letters, so we'll use a\n",
    "    #   while loop.\n",
    "    while len(winning_ticket) < 4:\n",
    "        pulled_item = choice(possibilities)\n",
    "\n",
    "        # Only add the pulled item to the winning ticket if it hasn't\n",
    "        #   already been pulled.\n",
    "        if pulled_item not in winning_ticket:\n",
    "            winning_ticket.append(pulled_item)\n",
    "\n",
    "    return winning_ticket\n",
    "\n",
    "def check_ticket(played_ticket, winning_ticket):\n",
    "    # Check all elements in the played ticket. If any are not in the \n",
    "    #   winning ticket, return False.\n",
    "    for element in played_ticket:\n",
    "        if element not in winning_ticket:\n",
    "            return False\n",
    "\n",
    "    # We must have a winning ticket!\n",
    "    return True\n",
    "\n",
    "def make_random_ticket(possibilities):\n",
    "    \"\"\"Return a random ticket from a set of possibilities.\"\"\"\n",
    "    ticket = []\n",
    "    # We don't want to repeat numbers or letters, so we'll use a while loop.\n",
    "    while len(ticket) < 4:\n",
    "        pulled_item = choice(possibilities)\n",
    "\n",
    "        # Only add the pulled item to the ticket if it hasn't already\n",
    "        #   been pulled.\n",
    "        if pulled_item not in ticket:\n",
    "            ticket.append(pulled_item)\n",
    "\n",
    "    return ticket\n",
    "\n",
    "\n",
    "possibilities = [1, 2, 3, 4, 5, 6, 7, 8, 9, 10, 'a', 'b', 'c', 'd', 'e']\n",
    "winning_ticket = get_winning_ticket(possibilities)\n",
    "\n",
    "plays = 0\n",
    "won = False\n",
    "\n",
    "# Let's set a max number of tries, in case this takes forever!\n",
    "max_tries = 1_000_000\n",
    "\n",
    "while not won:\n",
    "    new_ticket = make_random_ticket(possibilities)\n",
    "    won = check_ticket(new_ticket, winning_ticket)\n",
    "    plays += 1\n",
    "    if plays >= max_tries:\n",
    "        break\n",
    "\n",
    "if won:\n",
    "    print(\"We have a winning ticket!\")\n",
    "    print(f\"Your ticket: {new_ticket}\")\n",
    "    print(f\"Winning ticket: {winning_ticket}\")\n",
    "    print(f\"It only took {plays} tries to win!\")\n",
    "else:\n",
    "    print(f\"Tried {plays} times, without pulling a winner. :(\")\n",
    "    print(f\"Your ticket: {new_ticket}\")\n",
    "    print(f\"Winning ticket: {winning_ticket}\")"
   ]
  },
  {
   "cell_type": "markdown",
   "id": "ccaf26d1",
   "metadata": {},
   "source": [
    "**9-16. Python Module of the Week:** One excellent resource for exploring the Python standard library is a site called `Python Module of the Week`. Go to https://pymotw.com/ and look at the table of contents. Find a module that looks interesting to you and read about it, perhaps starting with the `random` module. Write three things you learned about the module below."
   ]
  },
  {
   "cell_type": "raw",
   "id": "bbd9da1a",
   "metadata": {},
   "source": [
    "1. random returns the next random FLOATING point \n",
    "2. you can set a range for random\n",
    "3. to do this use a for loop"
   ]
  }
 ],
 "metadata": {
  "kernelspec": {
   "display_name": "Python 3 (ipykernel)",
   "language": "python",
   "name": "python3"
  },
  "language_info": {
   "codemirror_mode": {
    "name": "ipython",
    "version": 3
   },
   "file_extension": ".py",
   "mimetype": "text/x-python",
   "name": "python",
   "nbconvert_exporter": "python",
   "pygments_lexer": "ipython3",
   "version": "3.11.4"
  }
 },
 "nbformat": 4,
 "nbformat_minor": 5
}
