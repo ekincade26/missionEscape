{
 "cells": [
  {
   "cell_type": "markdown",
   "id": "874397ba",
   "metadata": {},
   "source": [
    "<img src=\"https://www.usna.edu/WRC/_files/WRClogos/WRCE-logo-combined-01-crop.png\" width=\"200px\">\n",
    "\n",
    "# Dictionaries (Chapter 6)"
   ]
  },
  {
   "cell_type": "markdown",
   "id": "8d757823",
   "metadata": {},
   "source": [
    "Dictionaries are like lists but use strings called *keys* rather than a numeric index to refer to the stored items."
   ]
  },
  {
   "cell_type": "code",
   "execution_count": 3,
   "id": "6ba8fc9b",
   "metadata": {},
   "outputs": [
    {
     "name": "stdout",
     "output_type": "stream",
     "text": [
      "Alice received a 100 on the exam\n",
      "{'alice': 105, 'charlie': 98, 'dan': 85}\n"
     ]
    }
   ],
   "source": [
    "exam_grades = {'alice': 100,'bob': 95,'charlie': 98}\n",
    "\n",
    "# retrieve values by their associated key\n",
    "print(f\"Alice received a {exam_grades['alice']} on the exam\")\n",
    "\n",
    "# change values\n",
    "exam_grades['alice'] = 105\n",
    "\n",
    "# add items to the dictionary (same as changing a value)\n",
    "exam_grades['dan'] = 85\n",
    "\n",
    "#from del section below\n",
    "del exam_grades['bob']\n",
    "print(exam_grades)"
   ]
  },
  {
   "cell_type": "code",
   "execution_count": 3,
   "id": "7e807199",
   "metadata": {},
   "outputs": [
    {
     "name": "stdout",
     "output_type": "stream",
     "text": [
      "{'color': 'green', 'points': 5}\n"
     ]
    }
   ],
   "source": [
    "# start with an empty dictionary and add items (key-value pairs)\n",
    "alien_0 = {}\n",
    "alien_0['color'] = 'green'\n",
    "alien_0['points'] = 5\n",
    "print(alien_0)"
   ]
  },
  {
   "cell_type": "markdown",
   "id": "edfdb68b",
   "metadata": {},
   "source": [
    "### Alien Code Example"
   ]
  },
  {
   "cell_type": "code",
   "execution_count": 4,
   "id": "26fe8782",
   "metadata": {},
   "outputs": [
    {
     "name": "stdout",
     "output_type": "stream",
     "text": [
      "Original position: 0\n",
      "New position: 2\n"
     ]
    }
   ],
   "source": [
    "alien_0 = {'x_position': 0, 'y_position': 25, 'speed': 'medium'}\n",
    "print(f\"Original position: {alien_0['x_position']}\")\n",
    "\n",
    "# Move the alien to the right.\n",
    "# Determine how far to move the alien based on its current speed.\n",
    "if alien_0['speed'] == 'slow':\n",
    "    x_increment = 1\n",
    "elif alien_0['speed'] == 'medium':\n",
    "    x_increment = 2\n",
    "else:\n",
    "    # This must be a fast alien.\n",
    "    x_increment = 3\n",
    "\n",
    "# The new position is the old position plus the increment.\n",
    "alien_0['x_position'] = alien_0['x_position'] + x_increment\n",
    "\n",
    "print(f\"New position: {alien_0['x_position']}\")"
   ]
  },
  {
   "cell_type": "code",
   "execution_count": 5,
   "id": "c1810d51",
   "metadata": {},
   "outputs": [
    {
     "name": "stdout",
     "output_type": "stream",
     "text": [
      "{'alice': 'apples', 'bob': 'bananas'}\n"
     ]
    }
   ],
   "source": [
    "# removing items from a dictionary\n",
    "favorite_foods = {\n",
    "    'alice': 'apples',\n",
    "    'bob': 'bananas',\n",
    "    'charlie': 'cucumbers'\n",
    "}\n",
    "# remove charlie\n",
    "del favorite_foods['charlie']\n",
    "\n",
    "print(favorite_foods)"
   ]
  },
  {
   "cell_type": "markdown",
   "id": "ae7f897a",
   "metadata": {},
   "source": [
    "### Using `get()` to Access Values"
   ]
  },
  {
   "cell_type": "code",
   "execution_count": 6,
   "id": "a5e08712",
   "metadata": {},
   "outputs": [
    {
     "ename": "KeyError",
     "evalue": "'dan'",
     "output_type": "error",
     "traceback": [
      "\u001b[1;31m---------------------------------------------------------------------------\u001b[0m",
      "\u001b[1;31mKeyError\u001b[0m                                  Traceback (most recent call last)",
      "Cell \u001b[1;32mIn[6], line 7\u001b[0m\n\u001b[0;32m      1\u001b[0m \u001b[38;5;66;03m# trying to access an item that doesn't exist causes an error\u001b[39;00m\n\u001b[0;32m      2\u001b[0m favorite_foods \u001b[38;5;241m=\u001b[39m {\n\u001b[0;32m      3\u001b[0m     \u001b[38;5;124m'\u001b[39m\u001b[38;5;124malice\u001b[39m\u001b[38;5;124m'\u001b[39m: \u001b[38;5;124m'\u001b[39m\u001b[38;5;124mapples\u001b[39m\u001b[38;5;124m'\u001b[39m,\n\u001b[0;32m      4\u001b[0m     \u001b[38;5;124m'\u001b[39m\u001b[38;5;124mbob\u001b[39m\u001b[38;5;124m'\u001b[39m: \u001b[38;5;124m'\u001b[39m\u001b[38;5;124mbananas\u001b[39m\u001b[38;5;124m'\u001b[39m,\n\u001b[0;32m      5\u001b[0m     \u001b[38;5;124m'\u001b[39m\u001b[38;5;124mcharlie\u001b[39m\u001b[38;5;124m'\u001b[39m: \u001b[38;5;124m'\u001b[39m\u001b[38;5;124mcucumbers\u001b[39m\u001b[38;5;124m'\u001b[39m\n\u001b[0;32m      6\u001b[0m }\n\u001b[1;32m----> 7\u001b[0m \u001b[38;5;28mprint\u001b[39m(\u001b[38;5;124mf\u001b[39m\u001b[38;5;124m\"\u001b[39m\u001b[38;5;124mDan\u001b[39m\u001b[38;5;124m'\u001b[39m\u001b[38;5;124ms favorite food is \u001b[39m\u001b[38;5;132;01m{\u001b[39;00mfavorite_foods[\u001b[38;5;124m'\u001b[39m\u001b[38;5;124mdan\u001b[39m\u001b[38;5;124m'\u001b[39m]\u001b[38;5;132;01m}\u001b[39;00m\u001b[38;5;124m\"\u001b[39m)\n",
      "\u001b[1;31mKeyError\u001b[0m: 'dan'"
     ]
    }
   ],
   "source": [
    "# trying to access an item that doesn't exist causes an error\n",
    "favorite_foods = {\n",
    "    'alice': 'apples',\n",
    "    'bob': 'bananas',\n",
    "    'charlie': 'cucumbers'\n",
    "}\n",
    "print(f\"Dan's favorite food is {favorite_foods['dan']}\")"
   ]
  },
  {
   "cell_type": "code",
   "execution_count": 9,
   "id": "5d51d782",
   "metadata": {},
   "outputs": [
    {
     "name": "stdout",
     "output_type": "stream",
     "text": [
      "Dan's favorite food is unknown\n"
     ]
    }
   ],
   "source": [
    "# use get() to avoid an error and provide a default value instead\n",
    "print(f\"Dan's favorite food is {favorite_foods.get('dan','unknown')}\")"
   ]
  },
  {
   "cell_type": "markdown",
   "id": "d441715f",
   "metadata": {},
   "source": [
    "### Looping Through a Dictionary"
   ]
  },
  {
   "cell_type": "code",
   "execution_count": 6,
   "id": "0f970fd3",
   "metadata": {},
   "outputs": [
    {
     "name": "stdout",
     "output_type": "stream",
     "text": [
      "Alice's favorite food is apples.\n",
      "Bob's favorite food is bananas.\n",
      "Charlie's favorite food is cucumbers.\n",
      "\n",
      "\n",
      "Alice\n",
      "Bob\n",
      "Charlie\n",
      "\n",
      "\n",
      "Apples\n",
      "Bananas\n",
      "Cucumbers\n",
      "\n",
      "\n",
      "Alice\n",
      "Bob\n",
      "Charlie\n"
     ]
    }
   ],
   "source": [
    "favorite_foods = {\n",
    "    'alice': 'apples',\n",
    "    'bob': 'bananas',\n",
    "    'charlie': 'cucumbers'\n",
    "}\n",
    "# print everyone's favorite foods\n",
    "for name,food in favorite_foods.items():\n",
    "    print(f\"{name.title()}'s favorite food is {food}.\")\n",
    "\n",
    "print(\"\\n\")\n",
    "# just print everyone's names\n",
    "for name in favorite_foods.keys():\n",
    "    print(name.title())\n",
    "    \n",
    "print(\"\\n\")\n",
    "# just print the foods\n",
    "for foods in favorite_foods.values():\n",
    "    print(foods.title())\n",
    "\n",
    "print(\"\\n\")\n",
    "# looping through the dictionary directly gives the keys\n",
    "for name in favorite_foods:\n",
    "    print(name.title())\n",
    "    "
   ]
  },
  {
   "cell_type": "code",
   "execution_count": 11,
   "id": "51aa9b96",
   "metadata": {},
   "outputs": [
    {
     "name": "stdout",
     "output_type": "stream",
     "text": [
      "Jen\n",
      "Sarah\n",
      "\tSarah, I see you love C!\n",
      "Edward\n",
      "Phil\n",
      "\tPhil, I see you love Python!\n"
     ]
    }
   ],
   "source": [
    "favorite_languages = {\n",
    "    'jen': 'python',\n",
    "    'sarah': 'c',\n",
    "    'edward': 'ruby',\n",
    "    'phil': 'python',\n",
    "    }\n",
    "\n",
    "friends = ['phil', 'sarah']\n",
    "for name in favorite_languages.keys():\n",
    "    print(name.title())\n",
    "    \n",
    "    if name in friends:\n",
    "        language = favorite_languages[name].title()\n",
    "        print(f\"\\t{name.title()}, I see you love {language}!\")"
   ]
  },
  {
   "cell_type": "code",
   "execution_count": 3,
   "id": "d92bdfd9",
   "metadata": {},
   "outputs": [
    {
     "name": "stdout",
     "output_type": "stream",
     "text": [
      "Charlie\n",
      "Bob\n",
      "Alice\n"
     ]
    }
   ],
   "source": [
    "# use sorted() loop in a particular order\n",
    "for name in sorted(favorite_foods, reverse=True):\n",
    "    print(name.title())"
   ]
  },
  {
   "cell_type": "code",
   "execution_count": 11,
   "id": "5982717a",
   "metadata": {},
   "outputs": [
    {
     "name": "stdout",
     "output_type": "stream",
     "text": [
      "{'blue', 'green', 'red'}\n",
      "\n",
      "\n",
      "{'bananas', 'apples'}\n"
     ]
    }
   ],
   "source": [
    "# use set() to find unique values\n",
    "colors = ['red','red','blue','green','blue']\n",
    "print(set(colors))\n",
    "\n",
    "print(\"\\n\")\n",
    "\n",
    "# use set() along with .values() to print unique values in a dictionary\n",
    "favorite_foods = {\n",
    "    'alice': 'apples',\n",
    "    'bob': 'bananas',\n",
    "    'charlie': 'apples' # duplicate value\n",
    "}\n",
    "print(set(favorite_foods.values()))\n",
    "\n",
    "# TODO print each type of fruit you need to buy on a separate line using a loop"
   ]
  },
  {
   "cell_type": "markdown",
   "id": "a8c8aef6",
   "metadata": {},
   "source": [
    "### Nesting"
   ]
  },
  {
   "cell_type": "code",
   "execution_count": 12,
   "id": "67195984",
   "metadata": {},
   "outputs": [
    {
     "name": "stdout",
     "output_type": "stream",
     "text": [
      "Alice\n",
      "Bob\n",
      "Charlie\n",
      "['alice', 'bob', 'charlie', 'dan', 'edward', 'frank']\n"
     ]
    }
   ],
   "source": [
    "# a list of dictionaries\n",
    "users = [{'name':'Alice', 'email':'alice@gmail.com'},\n",
    "         {'name':'Bob', 'email':'bob123@hotmail.com'},\n",
    "         {'name':'Charlie','email':'charlz@yahoo.com'}]\n",
    "# print all of the user names:\n",
    "for user in users:\n",
    "    print(user['name'])\n",
    "    \n",
    "# a dictionary of lists\n",
    "course_roster={\n",
    "    'section1': ['alice','bob','charlie'],\n",
    "    'section2': ['dan','edward','frank']\n",
    "}\n",
    "# print all of the students\n",
    "all_students = []\n",
    "for students in course_roster.values():\n",
    "    all_students += students\n",
    "print(all_students)"
   ]
  },
  {
   "cell_type": "code",
   "execution_count": 13,
   "id": "968455b8",
   "metadata": {},
   "outputs": [
    {
     "name": "stdout",
     "output_type": "stream",
     "text": [
      "{'color': 'yellow', 'points': 10, 'speed': 'medium'}\n",
      "{'color': 'yellow', 'points': 10, 'speed': 'medium'}\n",
      "{'color': 'yellow', 'points': 10, 'speed': 'medium'}\n",
      "{'color': 'green', 'points': 5, 'speed': 'slow'}\n",
      "{'color': 'green', 'points': 5, 'speed': 'slow'}\n",
      "...\n"
     ]
    }
   ],
   "source": [
    "# Make an empty list for storing aliens.\n",
    "aliens = []\n",
    "\n",
    "# Make 30 green aliens.\n",
    "for alien_number in range(30):\n",
    "    new_alien = {'color': 'green', 'points': 5, 'speed': 'slow'}\n",
    "    aliens.append(new_alien)\n",
    "\n",
    "for alien in aliens[:3]:\n",
    "    if alien['color'] == 'green':\n",
    "        alien['color'] = 'yellow'\n",
    "        alien['speed'] = 'medium'\n",
    "        alien['points'] = 10\n",
    "    \n",
    "# Show the first 5 aliens.\n",
    "for alien in aliens[:5]:\n",
    "    print(alien)\n",
    "print(\"...\")"
   ]
  },
  {
   "cell_type": "markdown",
   "id": "4dfb0b0a",
   "metadata": {},
   "source": [
    "Dictionary in a Dictionary"
   ]
  },
  {
   "cell_type": "code",
   "execution_count": 14,
   "id": "d37a0cf8",
   "metadata": {},
   "outputs": [
    {
     "name": "stdout",
     "output_type": "stream",
     "text": [
      "\n",
      "Username: aeinstein\n",
      "\tFull name: Albert Einstein\n",
      "\tLocation: Princeton\n",
      "\n",
      "Username: mcurie\n",
      "\tFull name: Marie Curie\n",
      "\tLocation: Paris\n"
     ]
    }
   ],
   "source": [
    "users = {\n",
    "    'aeinstein': {\n",
    "        'first': 'albert',\n",
    "        'last': 'einstein',\n",
    "        'location': 'princeton',\n",
    "        },\n",
    "\n",
    "    'mcurie': {\n",
    "        'first': 'marie',\n",
    "        'last': 'curie',\n",
    "        'location': 'paris',\n",
    "        },\n",
    "\n",
    "    }\n",
    "\n",
    "for username, user_info in users.items():\n",
    "    print(f\"\\nUsername: {username}\")\n",
    "    full_name = f\"{user_info['first']} {user_info['last']}\"\n",
    "    location = user_info['location']\n",
    "\n",
    "    print(f\"\\tFull name: {full_name.title()}\")\n",
    "    print(f\"\\tLocation: {location.title()}\")"
   ]
  },
  {
   "cell_type": "markdown",
   "id": "20e482ab",
   "metadata": {},
   "source": [
    "-----\n",
    "\n",
    "## Homework Problems"
   ]
  },
  {
   "cell_type": "markdown",
   "id": "a2eeddc0",
   "metadata": {},
   "source": [
    "**6-1. Person:** Use a dictionary to store information about a person you know. Store their first name, last name, age, and the city in which they live. You should have keys such as `first_name`, `last_name`, and `city`. Print each piece of information stored in your dictionary."
   ]
  },
  {
   "cell_type": "code",
   "execution_count": 1,
   "id": "36700fb3",
   "metadata": {},
   "outputs": [
    {
     "name": "stdout",
     "output_type": "stream",
     "text": [
      "first name: Avery\n",
      "last name: Willaims\n",
      "{'first_name': 'Avery', 'last_name': 'Willaims', 'city': 'ATL'}\n"
     ]
    }
   ],
   "source": [
    "friend = {\n",
    "    'first_name':'Avery',\n",
    "    'last_name':'Willaims',\n",
    "    'city':'ATL',\n",
    "}\n",
    "print(f\"first name: {friend['first_name']}\")\n",
    "print(f\"last name: {friend['last_name']}\")\n",
    "print(f\"{friend}\")"
   ]
  },
  {
   "cell_type": "markdown",
   "id": "defece07",
   "metadata": {},
   "source": [
    "**6-2. Favorite Numbers:** Use a dictionary to store people's favorite numbers. Think of five names, and use them as keys in your dictionary. Think of a favorite number for each person, and store each as a value in your dictionary. Print each person's name and their favorite number."
   ]
  },
  {
   "cell_type": "code",
   "execution_count": 3,
   "id": "91e98077",
   "metadata": {},
   "outputs": [
    {
     "name": "stdout",
     "output_type": "stream",
     "text": [
      "Erin's favorite number is 5.\n",
      "Avery's favorite number is 47.\n",
      "Josh's favorite number is 1.\n",
      "Leah's favorite number is 2.\n",
      "Bob's favorite number is 7.\n"
     ]
    }
   ],
   "source": [
    "fav_num = {\n",
    "    'Erin':5,\n",
    "    'Avery':47,\n",
    "    'Josh':1,\n",
    "    'Leah':2,\n",
    "    'Bob':7,\n",
    "}\n",
    "\n",
    "for friends,num in fav_num.items():\n",
    "    print(f\"{friends}'s favorite number is {num}.\")"
   ]
  },
  {
   "cell_type": "markdown",
   "id": "d928eff3",
   "metadata": {},
   "source": [
    "**6-3. Glossary:** A Python dictionary can be used to model an actual dictionary. However to avoid confusion let's call it a glossary.\n",
    "* Think of five programming words you've learned about in the previous chapters. Use these words as the keys in your glossary, and store their meanings as values.\n",
    "* Print each word and its meaning as neatly formatted otuput. You might print the word followed by a colon and then its meaning, or print the word on one line and then print its meaning indented on a second line. Use the newline character (`\\n`) to insert a blank line between each word-meaning pair in your output."
   ]
  },
  {
   "cell_type": "code",
   "execution_count": 5,
   "id": "e88736ae",
   "metadata": {},
   "outputs": [
    {
     "name": "stdout",
     "output_type": "stream",
     "text": [
      "list; a collection of items in a particular order.\n",
      "if statements; allows the use of conditionals.\n",
      "loop; allows ability to filter through inputs or a list.\n",
      "slicing; helps to divide a list.\n",
      "sort; helps you organize a list.\n"
     ]
    }
   ],
   "source": [
    "coding_glossary = {\n",
    "    'list':'a collection of items in a particular order',\n",
    "    'if statements': 'allows the use of conditionals',\n",
    "    'loop':'allows ability to filter through inputs or a list',\n",
    "    'slicing':'helps to divide a list',\n",
    "    'sort':'helps you organize a list',\n",
    "}\n",
    "for term,defin in coding_glossary.items():\n",
    "    print(f\"{term}; {defin}.\")"
   ]
  },
  {
   "cell_type": "markdown",
   "id": "9830572d",
   "metadata": {},
   "source": [
    "**6-4. Glossary 2:** Clean up the code from above by replacing your series of `print()` calls with a loop that runs through the dictionary's keys and values. When you're sure that your loop works, add five more Python terms to your glossary. When you run your program again, these new words and meanings should automatically be included in the output."
   ]
  },
  {
   "cell_type": "code",
   "execution_count": 6,
   "id": "1d1269d2",
   "metadata": {},
   "outputs": [
    {
     "name": "stdout",
     "output_type": "stream",
     "text": [
      "list; a collection of items in a particular order.\n",
      "if statements; allows the use of conditionals.\n",
      "loop; allows ability to filter through inputs or a list.\n",
      "slicing; helps to divide a list.\n",
      "sort; helps you organize a list.\n",
      "string; stores letter values, cannot be used for mathematical operations.\n",
      "conditionals; ==,<,>,<=,>=,!= not equal.\n",
      "keys; the variable name in a dictionary.\n",
      "values; stored in keys in dictionaries.\n",
      "items; the combination of keys and values in a dictionary.\n"
     ]
    }
   ],
   "source": [
    "coding_glossary = {\n",
    "    'list':'a collection of items in a particular order',\n",
    "    'if statements': 'allows the use of conditionals',\n",
    "    'loop':'allows ability to filter through inputs or a list',\n",
    "    'slicing':'helps to divide a list',\n",
    "    'sort':'helps you organize a list',\n",
    "    'string':'stores letter values, cannot be used for mathematical operations',\n",
    "    'conditionals':'==,<,>,<=,>=,!= not equal',\n",
    "    'keys':'the variable name in a dictionary',\n",
    "    'values':'stored in keys in dictionaries',\n",
    "    'items':'the combination of keys and values in a dictionary'\n",
    "}\n",
    "for term,defin in coding_glossary.items():\n",
    "    print(f\"{term}; {defin}.\")"
   ]
  },
  {
   "cell_type": "markdown",
   "id": "2a4180d7",
   "metadata": {},
   "source": [
    "**6-5. Rivers:** Make a dictionary containing three major rivers and the country each river runs thorugh. One key-value pair might be `'nile': 'egypt'`. \n",
    "* Use a loop to print a sentence about each river, such as *The Nile runs through Egypt*. \n",
    "* Use a loop to print the name of each river included in the dictionary.\n",
    "* Use a loop to print the name of each country included in the the dictionary."
   ]
  },
  {
   "cell_type": "code",
   "execution_count": 7,
   "id": "5e30bcf4",
   "metadata": {},
   "outputs": [
    {
     "name": "stdout",
     "output_type": "stream",
     "text": [
      "The Amazon river runs though Brazil.\n",
      "The Mekong river runs though Vietnam.\n",
      "The Yangtze river runs though China.\n"
     ]
    }
   ],
   "source": [
    "rivers = {\n",
    "    'Amazon':'Brazil',\n",
    "    'Mekong':'Vietnam',\n",
    "    'Yangtze':'China',\n",
    "}\n",
    "\n",
    "for river, location in rivers.items():\n",
    "    print(f\"The {river} river runs though {location}.\")"
   ]
  },
  {
   "cell_type": "markdown",
   "id": "bb37ec94",
   "metadata": {},
   "source": [
    "**6-6. Polling:** Use the code in *favorite_languages.py* (page 97).\n",
    "* Make a list of people who should take the favorite languages poll. Include some names that are already in the dictionary and some that are not.\n",
    "* Loop through the list of people who should take the poll. If they have already taken the poll, print a message thanking them for responding. If they have not yet taken the poll, print a message inviting them to take the poll."
   ]
  },
  {
   "cell_type": "code",
   "execution_count": 20,
   "id": "126b1f02",
   "metadata": {},
   "outputs": [
    {
     "name": "stdout",
     "output_type": "stream",
     "text": [
      "['jen', 'sarah', 'edward', 'phil']\n",
      "4\n",
      "(people(1))\n"
     ]
    },
    {
     "ename": "TypeError",
     "evalue": "'list' object is not callable",
     "output_type": "error",
     "traceback": [
      "\u001b[1;31m---------------------------------------------------------------------------\u001b[0m",
      "\u001b[1;31mTypeError\u001b[0m                                 Traceback (most recent call last)",
      "Cell \u001b[1;32mIn[20], line 19\u001b[0m\n\u001b[0;32m     17\u001b[0m i \u001b[38;5;241m=\u001b[39m \u001b[38;5;241m0\u001b[39m\n\u001b[0;32m     18\u001b[0m \u001b[38;5;28;01mwhile\u001b[39;00m i\u001b[38;5;241m<\u001b[39mitera:\n\u001b[1;32m---> 19\u001b[0m     \u001b[38;5;28;01mif\u001b[39;00m people(i) \u001b[38;5;129;01min\u001b[39;00m taken:\n\u001b[0;32m     20\u001b[0m         \u001b[38;5;28mprint\u001b[39m(\u001b[38;5;124m'\u001b[39m\u001b[38;5;124mthank you!\u001b[39m\u001b[38;5;124m'\u001b[39m)\n\u001b[0;32m     21\u001b[0m     \u001b[38;5;28;01melse\u001b[39;00m:\n",
      "\u001b[1;31mTypeError\u001b[0m: 'list' object is not callable"
     ]
    }
   ],
   "source": [
    "favorite_languages = {\n",
    "    'jen':'python',\n",
    "    'sarah':'c',\n",
    "    'edward':'ruby',\n",
    "    'phil':'python',\n",
    "}\n",
    "\n",
    "people = ['jen','josh','phil','kyra']\n",
    "taken = []\n",
    "for person,lan in favorite_languages.items():\n",
    "    taken.append(person)\n",
    "print(taken)\n",
    "\n",
    "itera = len(people)\n",
    "print(itera)\n",
    "print(f\"(people(1))\")\n",
    "i = 0\n",
    "while i<itera:\n",
    "    if people(i) in taken:\n",
    "        print('thank you!')\n",
    "    else:\n",
    "        print('please take the survey')\n",
    "i = i+1"
   ]
  },
  {
   "cell_type": "markdown",
   "id": "3a97bce4",
   "metadata": {},
   "source": [
    " **6-7. People:** Start with the program you wrote for Exercise 6-1. Make two new dictionaries representing different people, and store all three dictionaries in a list called `people`. Loop through your list of people. As you loop through the list, print everything you know about each person."
   ]
  },
  {
   "cell_type": "code",
   "execution_count": 27,
   "id": "1d600c23",
   "metadata": {},
   "outputs": [
    {
     "name": "stdout",
     "output_type": "stream",
     "text": [
      "Avery\n",
      "Willaims\n",
      "ATL\n",
      "Kyra\n",
      "Ogar\n",
      "Jersey\n",
      "Sam\n",
      "Chon\n",
      "NYC\n"
     ]
    }
   ],
   "source": [
    "friend = {\n",
    "    'first_name':'Avery',\n",
    "    'last_name':'Willaims',\n",
    "    'city':'ATL',\n",
    "}\n",
    "\n",
    "\n",
    "friend_two = {\n",
    "    'first_name':'Kyra',\n",
    "    'last_name':'Ogar',\n",
    "    'city':'Jersey',\n",
    "}\n",
    "\n",
    "friend_three = {\n",
    "    'first_name':'Sam',\n",
    "    'last_name':'Chon',\n",
    "    'city':'NYC',\n",
    "}\n",
    "\n",
    "list_friends = [friend,friend_two,friend_three]\n",
    "#print(list_friends)\n",
    "for x in list_friends:\n",
    "    for info,stuff in x.items():\n",
    "         print(stuff)"
   ]
  },
  {
   "cell_type": "markdown",
   "id": "9321dfaa",
   "metadata": {},
   "source": [
    "**6-8. Pets:** Make several dictionaries, where each dictionary represents a different pet. In each dictionary, include the kind of animal and the owner's name. Store these dictionaries in a list called `pets`. Next, loop through your list and as you do, print everything you know about each pet."
   ]
  },
  {
   "cell_type": "code",
   "execution_count": 28,
   "id": "29b00071",
   "metadata": {},
   "outputs": [
    {
     "name": "stdout",
     "output_type": "stream",
     "text": [
      "dog\n",
      "Erin\n",
      "cat\n",
      "josh\n"
     ]
    }
   ],
   "source": [
    "pet_one = {\n",
    "    'type':'dog',\n",
    "    'owner':'Erin',\n",
    "}\n",
    "pet_two={\n",
    "    'type':'cat',\n",
    "    'owner':'josh',\n",
    "}\n",
    "pets = [pet_one,pet_two]\n",
    "for pet in pets:\n",
    "    for var,infos in pet.items():\n",
    "        print(infos)"
   ]
  },
  {
   "cell_type": "markdown",
   "id": "5a060c2e",
   "metadata": {},
   "source": [
    "**6-9. Favorite Places:** Make a dictionary called `favorite_places`. Think of three names to use as keys in the dictionary, and store one to three favorite places for each person. Loop through the dictionary, and print each person's name and their favorite place."
   ]
  },
  {
   "cell_type": "code",
   "execution_count": 30,
   "id": "3f106631",
   "metadata": {},
   "outputs": [
    {
     "name": "stdout",
     "output_type": "stream",
     "text": [
      "Mike's favorite places are jersey, ATL.\n",
      "Erin's favorite places are FL, ATL.\n"
     ]
    }
   ],
   "source": [
    "favorite_places = {\n",
    "    'Mike':'jersey, ATL',\n",
    "    'Erin':'FL, ATL',\n",
    "}\n",
    "for name,place in favorite_places.items():\n",
    "    print(f\"{name}'s favorite places are {place}.\")"
   ]
  },
  {
   "cell_type": "markdown",
   "id": "2bf64f77",
   "metadata": {},
   "source": [
    "**6-10. Favorite Numbers:** Modify your program from Exercise 6-2 so each person can have more than one favorite number. Then print each person's name along with their favorite numbers."
   ]
  },
  {
   "cell_type": "code",
   "execution_count": 33,
   "id": "9805b662",
   "metadata": {},
   "outputs": [
    {
     "name": "stdout",
     "output_type": "stream",
     "text": [
      "Erin's favorite numbers are 5,6,7,8.\n",
      "Avery's favorite numbers are 47,45,46.\n",
      "Josh's favorite numbers are 1,5,7.\n",
      "Leah's favorite numbers are 2,0.\n",
      "Bob's favorite numbers are 7,1.\n"
     ]
    }
   ],
   "source": [
    "fav_num = {\n",
    "    'Erin':'5,6,7,8',\n",
    "    'Avery':'47,45,46',\n",
    "    'Josh':'1,5,7',\n",
    "    'Leah':'2,0',\n",
    "    'Bob':'7,1',\n",
    "}\n",
    "\n",
    "for friends,num in fav_num.items():\n",
    "    print(f\"{friends}'s favorite numbers are {num}.\")"
   ]
  },
  {
   "cell_type": "markdown",
   "id": "ace442c3",
   "metadata": {},
   "source": [
    "**6-11 Cities:** Make a dictionary called `cities`. Use the names of three cities as keys in your dictionary. Create a dictionary of information about each city and include the country that the city is in, its approximate population, and one fact about that city. The keys for each city's dictionary should be something like `country`, `population`, and `fact`. Print the name of each city and all of the information you have stored about it."
   ]
  },
  {
   "cell_type": "code",
   "execution_count": 37,
   "id": "5b4b7d26",
   "metadata": {},
   "outputs": [
    {
     "name": "stdout",
     "output_type": "stream",
     "text": [
      "the city ATL is located in USA and has a population of 496461. A fun fact is that it is the capital of GA!\n",
      "the city Hong Kong is located in China and has a population of 7.4mil. A fun fact is that it is considered a special admin region of China!\n",
      "the city London is located in England and has a population of 8.9mil. A fun fact is that it is the capital of England!\n"
     ]
    }
   ],
   "source": [
    "cities = {\n",
    "    'ATL': {\n",
    "        'country':'USA',\n",
    "        'population':'496461',\n",
    "        'fact':'the capital of GA',\n",
    "    },\n",
    "    'Hong Kong':{\n",
    "        'country':'China',\n",
    "        'population':'7.4mil',\n",
    "        'fact':'considered a special admin region of China',\n",
    "    },\n",
    "    'London':{\n",
    "        'country':'England',\n",
    "        'population':'8.9mil',\n",
    "        'fact':'the capital of England',\n",
    "    },\n",
    "}\n",
    "\n",
    "for city, city_info in cities.items():\n",
    "    print(f\"the city {city} is located in {city_info['country']} and has a population of {city_info['population']}. A fun fact is that it is {city_info['fact']}!\")\n",
    "   "
   ]
  },
  {
   "cell_type": "markdown",
   "id": "53600553",
   "metadata": {},
   "source": [
    "**6-12. Extensions:** We're now working with examples that are complex enough that they can be extended in any number of ways. Use one of the example programs from this chapter, and extend it by adding new keys and values, changing the context of the program or improving the formatting of the output."
   ]
  },
  {
   "cell_type": "code",
   "execution_count": 39,
   "id": "11e3a09c",
   "metadata": {},
   "outputs": [
    {
     "name": "stdout",
     "output_type": "stream",
     "text": [
      "\n",
      "Username: aeinstein\n",
      "\tFull name: Albert Einstein\n",
      "\tLocation: Princeton\n",
      "\trating: 9/10\n",
      "\n",
      "Username: mcurie\n",
      "\tFull name: Marie Curie\n",
      "\tLocation: Paris\n",
      "\trating: 10/10\n"
     ]
    }
   ],
   "source": [
    "users = {\n",
    "    'aeinstein': {\n",
    "        'first': 'albert',\n",
    "        'last': 'einstein',\n",
    "        'location': 'princeton',\n",
    "        'rating':'9/10',\n",
    "        },\n",
    "\n",
    "    'mcurie': {\n",
    "        'first': 'marie',\n",
    "        'last': 'curie',\n",
    "        'location': 'paris',\n",
    "        'rating':'10/10',\n",
    "        },\n",
    "\n",
    "    }\n",
    "\n",
    "for username, user_info in users.items():\n",
    "    print(f\"\\nUsername: {username}\")\n",
    "    full_name = f\"{user_info['first']} {user_info['last']}\"\n",
    "    location = user_info['location']\n",
    "\n",
    "    print(f\"\\tFull name: {full_name.title()}\")\n",
    "    print(f\"\\tLocation: {location.title()}\")\n",
    "    print(f\"\\trating: {user_info['rating']}\")"
   ]
  },
  {
   "cell_type": "code",
   "execution_count": 1,
   "id": "3c447736",
   "metadata": {},
   "outputs": [],
   "source": [
    "%reset -f\n"
   ]
  },
  {
   "cell_type": "code",
   "execution_count": 2,
   "id": "cd9190f8",
   "metadata": {},
   "outputs": [
    {
     "data": {
      "text/plain": [
       "0"
      ]
     },
     "execution_count": 2,
     "metadata": {},
     "output_type": "execute_result"
    }
   ],
   "source": [
    "import gc\n",
    "gc.collect()\n"
   ]
  },
  {
   "cell_type": "code",
   "execution_count": null,
   "id": "bd1eee8f",
   "metadata": {},
   "outputs": [],
   "source": []
  }
 ],
 "metadata": {
  "kernelspec": {
   "display_name": "Python 3 (ipykernel)",
   "language": "python",
   "name": "python3"
  },
  "language_info": {
   "codemirror_mode": {
    "name": "ipython",
    "version": 3
   },
   "file_extension": ".py",
   "mimetype": "text/x-python",
   "name": "python",
   "nbconvert_exporter": "python",
   "pygments_lexer": "ipython3",
   "version": "3.11.4"
  }
 },
 "nbformat": 4,
 "nbformat_minor": 5
}
